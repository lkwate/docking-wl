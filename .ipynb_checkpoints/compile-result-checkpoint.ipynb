{
 "cells": [
  {
   "cell_type": "code",
   "execution_count": 33,
   "metadata": {},
   "outputs": [],
   "source": [
    "import os\n",
    "import pandas as pd\n",
    "import glob"
   ]
  },
  {
   "cell_type": "code",
   "execution_count": 71,
   "metadata": {},
   "outputs": [],
   "source": [
    "def merge_result(root, output_dir, binding_score_dir):\n",
    "    merged_data = {}\n",
    "    for file in glob.iglob(root, recursive=True):\n",
    "        if os.path.isfile(file):\n",
    "            chunk = pd.read_csv(file)\n",
    "            chunk['energy'] = chunk[['E1', 'E2', 'E3']].min(axis=1)\n",
    "            del chunk['E1'], chunk['E2'], chunk['E3']\n",
    "            file = file.split('/')[-1]\n",
    "            if file in merged_data:\n",
    "                merged_data[file] = merged_data[file].append(chunk)\n",
    "            else:\n",
    "                merged_data[file] = chunk\n",
    "    \n",
    "    for file, data in merged_data.items():\n",
    "        try:\n",
    "            bs = pd.read_csv(os.path.join(binding_score_dir, file))\n",
    "        except:\n",
    "            continue\n",
    "        bs['LigandName'] = bs['LigandName'].apply(lambda x : str(x).split('_')[-1])\n",
    "        output_path = os.path.join(output_dir, file)\n",
    "        data = data.dropna()\n",
    "        # add binding score\n",
    "        scores = []\n",
    "        for row in data.iterrows():\n",
    "            s = bs[bs['LigandName'] == row[1]['ligand']].iloc[0]['BindingScore']\n",
    "            scores.append(s)\n",
    "        data['binding score'] = scores\n",
    "        data.to_csv(output_path, index=False)"
   ]
  },
  {
   "cell_type": "code",
   "execution_count": 72,
   "metadata": {},
   "outputs": [],
   "source": [
    "merge_result('results-top-(200-100)/**', 'results-top-(200-100)/results/', 'binding-score/')"
   ]
  },
  {
   "cell_type": "code",
   "execution_count": 73,
   "metadata": {},
   "outputs": [],
   "source": [
    "merge_result('results-top-(300-200)/**', 'results-top-(300-200)/results/', 'binding-score/')"
   ]
  },
  {
   "cell_type": "code",
   "execution_count": 75,
   "metadata": {},
   "outputs": [],
   "source": [
    "merge_result('results-top-(400-300)/**', 'results-top-(400-300)/results/', 'binding-score/')"
   ]
  },
  {
   "cell_type": "code",
   "execution_count": 78,
   "metadata": {},
   "outputs": [],
   "source": [
    "def accumulate_result(list_input_dir, output_dir):\n",
    "    accumulated_data = {}\n",
    "    for dir in list_input_dir:\n",
    "        for file in os.listdir(dir):\n",
    "            chunk = pd.read_csv(os.path.join(dir, file))\n",
    "            if file in accumulated_data:\n",
    "                accumulated_data[file] = accumulated_data[file].append(chunk)\n",
    "            else:\n",
    "                accumulated_data[file] = chunk\n",
    "                \n",
    "    for file, data in accumulated_data.items():\n",
    "        output_path = os.path.join(output_dir, file)\n",
    "        data = data.dropna()\n",
    "        data.to_csv(output_path, index=False)"
   ]
  },
  {
   "cell_type": "code",
   "execution_count": 79,
   "metadata": {},
   "outputs": [],
   "source": [
    "accumulate_result(['./results-top-100/results/', \n",
    "                   './results-top-(200-100)/results/'], \n",
    "                  './results/results-top-200/')"
   ]
  },
  {
   "cell_type": "code",
   "execution_count": 80,
   "metadata": {},
   "outputs": [],
   "source": [
    "accumulate_result(['./results-top-100/results/', \n",
    "                   './results-top-(200-100)/results/', \n",
    "                   './results-top-(300-200)/results'], \n",
    "                  './results/results-top-300/')"
   ]
  },
  {
   "cell_type": "code",
   "execution_count": 81,
   "metadata": {},
   "outputs": [],
   "source": [
    "accumulate_result(['./results-top-100/results/', \n",
    "                   './results-top-(200-100)/results/', \n",
    "                   './results-top-(300-200)/results/', \n",
    "                   './results-top-(400-300)/results/'], \n",
    "                  './results/results-top-400/')"
   ]
  },
  {
   "cell_type": "markdown",
   "metadata": {},
   "source": [
    "# statistics"
   ]
  },
  {
   "cell_type": "code",
   "execution_count": 88,
   "metadata": {},
   "outputs": [],
   "source": [
    "import pandas as pd\n",
    "import numpy as np\n",
    "import os\n",
    "from collections import namedtuple\n",
    "from scipy import stats\n",
    "import matplotlib.pyplot as plt\n",
    "import statistics"
   ]
  },
  {
   "cell_type": "code",
   "execution_count": 98,
   "metadata": {},
   "outputs": [],
   "source": [
    "top = \"100\"\n",
    "root = \"./results/results-top-{}/\""
   ]
  },
  {
   "cell_type": "markdown",
   "metadata": {},
   "source": [
    "## rank distribution"
   ]
  },
  {
   "cell_type": "code",
   "execution_count": 104,
   "metadata": {},
   "outputs": [],
   "source": [
    "def plot_rank_distribution(top):\n",
    "    root_dir = root.format(top)\n",
    "    rank = []\n",
    "    for file in os.listdir(root_dir):\n",
    "        data = pd.read_csv(os.path.join(root_dir, file))\n",
    "        index = data.index\n",
    "        data_sorted = data.sort_values(by=['energy'])\n",
    "        min_energy = data['energy'].min()\n",
    "        \n",
    "        r = 1000\n",
    "        for i, row in enumerate(data.iterrows()):\n",
    "            if row[1]['energy'] == min_energy:\n",
    "                r = min(r, i)\n",
    "        rank.append(r + 1)\n",
    "        \n",
    "    median = statistics.median(rank)\n",
    "    plt.title(\"rank distribution\")\n",
    "    plt.xlabel(\"rank\")\n",
    "    plt.ylabel(\"frequency\")\n",
    "    plt.hist(rank)\n",
    "    \n",
    "    return median"
   ]
  },
  {
   "cell_type": "code",
   "execution_count": 105,
   "metadata": {},
   "outputs": [
    {
     "data": {
      "text/plain": [
       "91.5"
      ]
     },
     "execution_count": 105,
     "metadata": {},
     "output_type": "execute_result"
    },
    {
     "data": {
      "image/png": "[encoded data removed]",
      "text/plain": [
       "<Figure size 432x288 with 1 Axes>"
      ]
     },
     "metadata": {
      "needs_background": "light"
     },
     "output_type": "display_data"
    }
   ],
   "source": [
    "plot_rank_distribution(100)"
   ]
  },
  {
   "cell_type": "code",
   "execution_count": 106,
   "metadata": {},
   "outputs": [
    {
     "data": {
      "text/plain": [
       "121.0"
      ]
     },
     "execution_count": 106,
     "metadata": {},
     "output_type": "execute_result"
    },
    {
     "data": {
      "image/png": "[encoded data removed]",
      "text/plain": [
       "<Figure size 432x288 with 1 Axes>"
      ]
     },
     "metadata": {
      "needs_background": "light"
     },
     "output_type": "display_data"
    }
   ],
   "source": [
    "plot_rank_distribution(200)"
   ]
  },
  {
   "cell_type": "code",
   "execution_count": 107,
   "metadata": {},
   "outputs": [
    {
     "data": {
      "text/plain": [
       "148.0"
      ]
     },
     "execution_count": 107,
     "metadata": {},
     "output_type": "execute_result"
    },
    {
     "data": {
      "image/png": "[encoded data removed]",
      "text/plain": [
       "<Figure size 432x288 with 1 Axes>"
      ]
     },
     "metadata": {
      "needs_background": "light"
     },
     "output_type": "display_data"
    }
   ],
   "source": [
    "plot_rank_distribution(300)"
   ]
  },
  {
   "cell_type": "code",
   "execution_count": 108,
   "metadata": {},
   "outputs": [
    {
     "data": {
      "text/plain": [
       "154.5"
      ]
     },
     "execution_count": 108,
     "metadata": {},
     "output_type": "execute_result"
    },
    {
     "data": {
      "image/png": "[encoded data removed]",
      "text/plain": [
       "<Figure size 432x288 with 1 Axes>"
      ]
     },
     "metadata": {
      "needs_background": "light"
     },
     "output_type": "display_data"
    }
   ],
   "source": [
    "plot_rank_distribution(400)"
   ]
  },
  {
   "cell_type": "markdown",
   "metadata": {},
   "source": [
    "## overlapping"
   ]
  },
  {
   "cell_type": "code",
   "execution_count": 122,
   "metadata": {},
   "outputs": [],
   "source": [
    "def overlapping_score(top, top_overlap = 1):\n",
    "    root_dir = root.format(top)\n",
    "    scores = []\n",
    "    for file in os.listdir(root_dir):\n",
    "        data = pd.read_csv(os.path.join(root_dir, file))\n",
    "        data = data.sort_values(by = ['binding score'], ascending=False)\n",
    "        s1 = set(data[:top_overlap]['ligand'].tolist())\n",
    "        s2 =  set(data[['ligand', 'energy']].sort_values(by=['energy'])['ligand'][:top_overlap])\n",
    "        target = file.split('.')[-1]\n",
    "        \n",
    "        scores.append(len(s2 & s1) / len(s1))\n",
    "        \n",
    "    plt.title(\"overlapping distribution\")\n",
    "    plt.xlabel(\"target\")\n",
    "    plt.ylabel(\"overlapping score\")\n",
    "    plt.hist(scores)"
   ]
  },
  {
   "cell_type": "code",
   "execution_count": 128,
   "metadata": {},
   "outputs": [
    {
     "data": {
      "image/png": "[encoded data removed]",
      "text/plain": [
       "<Figure size 432x288 with 1 Axes>"
      ]
     },
     "metadata": {
      "needs_background": "light"
     },
     "output_type": "display_data"
    }
   ],
   "source": [
    "overlapping_score(400, 145)"
   ]
  },
  {
   "cell_type": "markdown",
   "metadata": {},
   "source": [
    "## aggregation"
   ]
  },
  {
   "cell_type": "code",
   "execution_count": null,
   "metadata": {},
   "outputs": [],
   "source": [
    "def aggregation_ligand(top, top_ag=1):\n",
    "    aggregation = {}\n",
    "    root_dir = root.format(top)\n",
    "    for file in os.listdir(root_dir):\n",
    "        data = pd.read_csv(os.path.join(root_dir, file))\n",
    "        data = data.sort_values(by=['energy'])[:top_ag]\n",
    "        \n",
    "        for row in row.iterrows():\n",
    "            ligand = row[1]['ligand']\n",
    "            if ligand in aggregation:\n",
    "                aggregation[ligand] += 1\n",
    "            else:\n",
    "                aggregation[ligand] = 1"
   ]
  }
 ],
 "metadata": {
  "kernelspec": {
   "display_name": "Python 3",
   "language": "python",
   "name": "python3"
  },
  "language_info": {
   "codemirror_mode": {
    "name": "ipython",
    "version": 3
   },
   "file_extension": ".py",
   "mimetype": "text/x-python",
   "name": "python",
   "nbconvert_exporter": "python",
   "pygments_lexer": "ipython3",
   "version": "3.6.9"
  }
 },
 "nbformat": 4,
 "nbformat_minor": 4
}
