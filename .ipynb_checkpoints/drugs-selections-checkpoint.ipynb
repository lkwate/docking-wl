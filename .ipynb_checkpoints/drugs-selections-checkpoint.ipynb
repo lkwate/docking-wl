{
 "cells": [
  {
   "cell_type": "code",
   "execution_count": 1,
   "metadata": {},
   "outputs": [],
   "source": [
    "import os\n",
    "import pandas as pd"
   ]
  },
  {
   "cell_type": "code",
   "execution_count": 2,
   "metadata": {},
   "outputs": [],
   "source": [
    "def get_top_drugs(n=None):\n",
    "    if not n:\n",
    "        raise Exception('n is not defined')\n",
    "    drugs = set()\n",
    "    for file_name in os.listdir('binding-score/'):\n",
    "        data = pd.read_csv('binding-score/{}'.format(file_name))\n",
    "        data = data.sort_values(by=['BindingScore'], ascending=False)\n",
    "        top_drugs = data[:n]['LigandName']\n",
    "        drugs |= set(top_drugs)\n",
    "    \n",
    "    return drugs"
   ]
  },
  {
   "cell_type": "code",
   "execution_count": 12,
   "metadata": {},
   "outputs": [],
   "source": [
    "top_600_drugs = get_top_drugs(600)\n",
    "top_500_drugs = get_top_drugs(500)"
   ]
  },
  {
   "cell_type": "code",
   "execution_count": 13,
   "metadata": {},
   "outputs": [
    {
     "data": {
      "text/plain": [
       "(756, 884)"
      ]
     },
     "execution_count": 13,
     "metadata": {},
     "output_type": "execute_result"
    }
   ],
   "source": [
    "len(top_500_drugs), len(top_600_drugs)"
   ]
  },
  {
   "cell_type": "code",
   "execution_count": 14,
   "metadata": {},
   "outputs": [],
   "source": [
    "top_600_500_drugs = top_600_drugs - top_400_drugs"
   ]
  },
  {
   "cell_type": "code",
   "execution_count": 15,
   "metadata": {},
   "outputs": [],
   "source": [
    "drugs = [s.split('_')[-1] for s in top_600_500_drugs]"
   ]
  },
  {
   "cell_type": "code",
   "execution_count": 16,
   "metadata": {},
   "outputs": [],
   "source": [
    "for i in range(0, 5):\n",
    "    with open('ligands(600-500)-{}.txt'.format(i + 1), 'w') as file:\n",
    "        for drug in drugs[i * 25 : (i + 1) * 25]:\n",
    "            file.write('%s\\n' % drug)"
   ]
  },
  {
   "cell_type": "code",
   "execution_count": 18,
   "metadata": {},
   "outputs": [
    {
     "data": {
      "text/plain": [
       "128"
      ]
     },
     "execution_count": 18,
     "metadata": {},
     "output_type": "execute_result"
    }
   ],
   "source": [
    "len(drugs)"
   ]
  },
  {
   "cell_type": "code",
   "execution_count": null,
   "metadata": {},
   "outputs": [],
   "source": []
  }
 ],
 "metadata": {
  "kernelspec": {
   "display_name": "Python 3",
   "language": "python",
   "name": "python3"
  },
  "language_info": {
   "codemirror_mode": {
    "name": "ipython",
    "version": 3
   },
   "file_extension": ".py",
   "mimetype": "text/x-python",
   "name": "python",
   "nbconvert_exporter": "python",
   "pygments_lexer": "ipython3",
   "version": "3.6.9"
  }
 },
 "nbformat": 4,
 "nbformat_minor": 4
}
