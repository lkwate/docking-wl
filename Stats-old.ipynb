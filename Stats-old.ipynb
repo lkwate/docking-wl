{
 "cells": [
  {
   "cell_type": "code",
   "execution_count": 1,
   "metadata": {},
   "outputs": [],
   "source": [
    "import pandas as pd\n",
    "import numpy as np\n",
    "import os\n",
    "from collections import namedtuple\n",
    "from scipy import stats\n",
    "import matplotlib.pyplot as plt"
   ]
  },
  {
   "cell_type": "code",
   "execution_count": 2,
   "metadata": {},
   "outputs": [],
   "source": [
    "args = {\n",
    "    'score_path' : './binding_scores/',\n",
    "}\n",
    "args = namedtuple('args', args.keys())(*args.values())"
   ]
  },
  {
   "cell_type": "code",
   "execution_count": 3,
   "metadata": {},
   "outputs": [],
   "source": [
    "rank = []\n",
    "for filename in os.listdir(args.score_path):\n",
    "    data = pd.read_csv(args.score_path + filename)\n",
    "    index = data.index\n",
    "    data_sorted = data.sort_values(by=['InterfE'])\n",
    "    min_value = data_sorted.iloc[0]['InterfE']\n",
    "    avg_rank = 1000\n",
    "    for i, row in enumerate(data.iterrows()):\n",
    "        if row[1]['InterfE'] == min_value:\n",
    "            avg_rank = min(avg_rank, i)\n",
    "    if avg_rank == 1000:\n",
    "        continue\n",
    "    rank.append(avg_rank + 1)"
   ]
  },
  {
   "cell_type": "code",
   "execution_count": 7,
   "metadata": {},
   "outputs": [
    {
     "data": {
      "text/plain": [
       "28"
      ]
     },
     "execution_count": 7,
     "metadata": {},
     "output_type": "execute_result"
    }
   ],
   "source": [
    "sum(rank) // len(rank)"
   ]
  },
  {
   "cell_type": "code",
   "execution_count": 10,
   "metadata": {},
   "outputs": [
    {
     "name": "stdout",
     "output_type": "stream",
     "text": [
      "32.0\n"
     ]
    }
   ],
   "source": [
    "import statistics\n",
    "print(statistics.median(rank))"
   ]
  },
  {
   "cell_type": "code",
   "execution_count": 12,
   "metadata": {},
   "outputs": [
    {
     "data": {
      "text/plain": [
       "41"
      ]
     },
     "execution_count": 12,
     "metadata": {},
     "output_type": "execute_result"
    }
   ],
   "source": [
    "max(rank)"
   ]
  },
  {
   "cell_type": "code",
   "execution_count": 6,
   "metadata": {},
   "outputs": [
    {
     "data": {
      "text/plain": [
       "(array([ 8.,  7.,  8.,  7.,  7.,  5., 10., 47., 30., 39.]),\n",
       " array([ 1.,  5.,  9., 13., 17., 21., 25., 29., 33., 37., 41.]),\n",
       " <a list of 10 Patch objects>)"
      ]
     },
     "execution_count": 6,
     "metadata": {},
     "output_type": "execute_result"
    },
    {
     "data": {
      "image/png": "[encoded data removed]",
      "text/plain": [
       "<Figure size 432x288 with 1 Axes>"
      ]
     },
     "metadata": {
      "needs_background": "light"
     },
     "output_type": "display_data"
    }
   ],
   "source": [
    "plt.title(\"rank distribution\")\n",
    "plt.xlabel(\"rank\")\n",
    "plt.ylabel(\"frequency\")\n",
    "plt.hist(rank)"
   ]
  },
  {
   "cell_type": "code",
   "execution_count": 7,
   "metadata": {},
   "outputs": [],
   "source": [
    "data = data.sort_values(by=['InterfE'])[:10]"
   ]
  },
  {
   "cell_type": "code",
   "execution_count": 118,
   "metadata": {},
   "outputs": [],
   "source": [
    "columns = ['Target', 'KendalR', 'SpearmanR', 'PearsonR']\n",
    "stats_data = []\n",
    "for filename in os.listdir(args.score_path):\n",
    "    data = pd.read_csv(args.score_path + filename).dropna()\n",
    "    if len(data) == 0:\n",
    "        continue\n",
    "    x = data['Binding-Score']\n",
    "    y = data['InterfE']\n",
    "    kendalr, _ = stats.kendalltau(x, y)\n",
    "    spearmanr, _ = stats.spearmanr(x, y)\n",
    "    pearsonr, _ = stats.pearsonr(x, y)\n",
    "    \n",
    "    target = data.iloc[0]['Target-Name']\n",
    "    stats_data.append([target, kendalr, spearmanr, pearsonr])\n",
    "\n",
    "stats_data = pd.DataFrame(data=stats_data, columns=columns)\n",
    "stats_data = stats_data.sort_values(by=['KendalR'])\n",
    "# stats_data.to_csv('corr_summary.csv', index=False)"
   ]
  },
  {
   "cell_type": "code",
   "execution_count": 119,
   "metadata": {},
   "outputs": [
    {
     "data": {
      "text/html": [
       "<style  type=\"text/css\" >\n",
       "    #T_40ff7c68_7f82_11eb_9d0b_74e54361a150row0_col1 {\n",
       "            background-color:  #fff7fb;\n",
       "            color:  #000000;\n",
       "        }    #T_40ff7c68_7f82_11eb_9d0b_74e54361a150row0_col2 {\n",
       "            background-color:  #fff7fb;\n",
       "            color:  #000000;\n",
       "        }    #T_40ff7c68_7f82_11eb_9d0b_74e54361a150row0_col3 {\n",
       "            background-color:  #fff7fb;\n",
       "            color:  #000000;\n",
       "        }    #T_40ff7c68_7f82_11eb_9d0b_74e54361a150row1_col1 {\n",
       "            background-color:  #c1cae2;\n",
       "            color:  #000000;\n",
       "        }    #T_40ff7c68_7f82_11eb_9d0b_74e54361a150row1_col2 {\n",
       "            background-color:  #c5cce3;\n",
       "            color:  #000000;\n",
       "        }    #T_40ff7c68_7f82_11eb_9d0b_74e54361a150row1_col3 {\n",
       "            background-color:  #ced0e6;\n",
       "            color:  #000000;\n",
       "        }    #T_40ff7c68_7f82_11eb_9d0b_74e54361a150row2_col1 {\n",
       "            background-color:  #509ac6;\n",
       "            color:  #000000;\n",
       "        }    #T_40ff7c68_7f82_11eb_9d0b_74e54361a150row2_col2 {\n",
       "            background-color:  #5a9ec9;\n",
       "            color:  #000000;\n",
       "        }    #T_40ff7c68_7f82_11eb_9d0b_74e54361a150row2_col3 {\n",
       "            background-color:  #76aad0;\n",
       "            color:  #000000;\n",
       "        }    #T_40ff7c68_7f82_11eb_9d0b_74e54361a150row3_col1 {\n",
       "            background-color:  #3790c0;\n",
       "            color:  #000000;\n",
       "        }    #T_40ff7c68_7f82_11eb_9d0b_74e54361a150row3_col2 {\n",
       "            background-color:  #4094c3;\n",
       "            color:  #000000;\n",
       "        }    #T_40ff7c68_7f82_11eb_9d0b_74e54361a150row3_col3 {\n",
       "            background-color:  #a4bcda;\n",
       "            color:  #000000;\n",
       "        }    #T_40ff7c68_7f82_11eb_9d0b_74e54361a150row4_col1 {\n",
       "            background-color:  #2987bc;\n",
       "            color:  #000000;\n",
       "        }    #T_40ff7c68_7f82_11eb_9d0b_74e54361a150row4_col2 {\n",
       "            background-color:  #1c7fb8;\n",
       "            color:  #000000;\n",
       "        }    #T_40ff7c68_7f82_11eb_9d0b_74e54361a150row4_col3 {\n",
       "            background-color:  #88b1d4;\n",
       "            color:  #000000;\n",
       "        }    #T_40ff7c68_7f82_11eb_9d0b_74e54361a150row5_col1 {\n",
       "            background-color:  #2484ba;\n",
       "            color:  #000000;\n",
       "        }    #T_40ff7c68_7f82_11eb_9d0b_74e54361a150row5_col2 {\n",
       "            background-color:  #056dab;\n",
       "            color:  #f1f1f1;\n",
       "        }    #T_40ff7c68_7f82_11eb_9d0b_74e54361a150row5_col3 {\n",
       "            background-color:  #93b5d6;\n",
       "            color:  #000000;\n",
       "        }    #T_40ff7c68_7f82_11eb_9d0b_74e54361a150row6_col1 {\n",
       "            background-color:  #056dab;\n",
       "            color:  #f1f1f1;\n",
       "        }    #T_40ff7c68_7f82_11eb_9d0b_74e54361a150row6_col2 {\n",
       "            background-color:  #023f64;\n",
       "            color:  #f1f1f1;\n",
       "        }    #T_40ff7c68_7f82_11eb_9d0b_74e54361a150row6_col3 {\n",
       "            background-color:  #81aed2;\n",
       "            color:  #000000;\n",
       "        }    #T_40ff7c68_7f82_11eb_9d0b_74e54361a150row7_col1 {\n",
       "            background-color:  #046299;\n",
       "            color:  #f1f1f1;\n",
       "        }    #T_40ff7c68_7f82_11eb_9d0b_74e54361a150row7_col2 {\n",
       "            background-color:  #056ba7;\n",
       "            color:  #f1f1f1;\n",
       "        }    #T_40ff7c68_7f82_11eb_9d0b_74e54361a150row7_col3 {\n",
       "            background-color:  #b8c6e0;\n",
       "            color:  #000000;\n",
       "        }    #T_40ff7c68_7f82_11eb_9d0b_74e54361a150row8_col1 {\n",
       "            background-color:  #046096;\n",
       "            color:  #f1f1f1;\n",
       "        }    #T_40ff7c68_7f82_11eb_9d0b_74e54361a150row8_col2 {\n",
       "            background-color:  #023f64;\n",
       "            color:  #f1f1f1;\n",
       "        }    #T_40ff7c68_7f82_11eb_9d0b_74e54361a150row8_col3 {\n",
       "            background-color:  #63a2cb;\n",
       "            color:  #000000;\n",
       "        }    #T_40ff7c68_7f82_11eb_9d0b_74e54361a150row9_col1 {\n",
       "            background-color:  #023858;\n",
       "            color:  #f1f1f1;\n",
       "        }    #T_40ff7c68_7f82_11eb_9d0b_74e54361a150row9_col2 {\n",
       "            background-color:  #023858;\n",
       "            color:  #f1f1f1;\n",
       "        }    #T_40ff7c68_7f82_11eb_9d0b_74e54361a150row9_col3 {\n",
       "            background-color:  #023858;\n",
       "            color:  #f1f1f1;\n",
       "        }</style><table id=\"T_40ff7c68_7f82_11eb_9d0b_74e54361a150\" ><thead>    <tr>        <th class=\"blank level0\" ></th>        <th class=\"col_heading level0 col0\" >Target</th>        <th class=\"col_heading level0 col1\" >KendalR</th>        <th class=\"col_heading level0 col2\" >SpearmanR</th>        <th class=\"col_heading level0 col3\" >PearsonR</th>    </tr></thead><tbody>\n",
       "                <tr>\n",
       "                        <th id=\"T_40ff7c68_7f82_11eb_9d0b_74e54361a150level0_row0\" class=\"row_heading level0 row0\" >73</th>\n",
       "                        <td id=\"T_40ff7c68_7f82_11eb_9d0b_74e54361a150row0_col0\" class=\"data row0 col0\" >E9AQ39.0.apo</td>\n",
       "                        <td id=\"T_40ff7c68_7f82_11eb_9d0b_74e54361a150row0_col1\" class=\"data row0 col1\" >-0.347494</td>\n",
       "                        <td id=\"T_40ff7c68_7f82_11eb_9d0b_74e54361a150row0_col2\" class=\"data row0 col2\" >-0.470896</td>\n",
       "                        <td id=\"T_40ff7c68_7f82_11eb_9d0b_74e54361a150row0_col3\" class=\"data row0 col3\" >-0.320005</td>\n",
       "            </tr>\n",
       "            <tr>\n",
       "                        <th id=\"T_40ff7c68_7f82_11eb_9d0b_74e54361a150level0_row1\" class=\"row_heading level0 row1\" >113</th>\n",
       "                        <td id=\"T_40ff7c68_7f82_11eb_9d0b_74e54361a150row1_col0\" class=\"data row1 col0\" >A0A3Q8IA63.0.apo</td>\n",
       "                        <td id=\"T_40ff7c68_7f82_11eb_9d0b_74e54361a150row1_col1\" class=\"data row1 col1\" >-0.313747</td>\n",
       "                        <td id=\"T_40ff7c68_7f82_11eb_9d0b_74e54361a150row1_col2\" class=\"data row1 col2\" >-0.432939</td>\n",
       "                        <td id=\"T_40ff7c68_7f82_11eb_9d0b_74e54361a150row1_col3\" class=\"data row1 col3\" >-0.272038</td>\n",
       "            </tr>\n",
       "            <tr>\n",
       "                        <th id=\"T_40ff7c68_7f82_11eb_9d0b_74e54361a150level0_row2\" class=\"row_heading level0 row2\" >5</th>\n",
       "                        <td id=\"T_40ff7c68_7f82_11eb_9d0b_74e54361a150row2_col0\" class=\"data row2 col0\" >A0A088RZ69.0.apo</td>\n",
       "                        <td id=\"T_40ff7c68_7f82_11eb_9d0b_74e54361a150row2_col1\" class=\"data row2 col1\" >-0.281732</td>\n",
       "                        <td id=\"T_40ff7c68_7f82_11eb_9d0b_74e54361a150row2_col2\" class=\"data row2 col2\" >-0.396628</td>\n",
       "                        <td id=\"T_40ff7c68_7f82_11eb_9d0b_74e54361a150row2_col3\" class=\"data row2 col3\" >-0.227911</td>\n",
       "            </tr>\n",
       "            <tr>\n",
       "                        <th id=\"T_40ff7c68_7f82_11eb_9d0b_74e54361a150level0_row3\" class=\"row_heading level0 row3\" >16</th>\n",
       "                        <td id=\"T_40ff7c68_7f82_11eb_9d0b_74e54361a150row3_col0\" class=\"data row3 col0\" >A0A088RNG1.0.apo</td>\n",
       "                        <td id=\"T_40ff7c68_7f82_11eb_9d0b_74e54361a150row3_col1\" class=\"data row3 col1\" >-0.275588</td>\n",
       "                        <td id=\"T_40ff7c68_7f82_11eb_9d0b_74e54361a150row3_col2\" class=\"data row3 col2\" >-0.389701</td>\n",
       "                        <td id=\"T_40ff7c68_7f82_11eb_9d0b_74e54361a150row3_col3\" class=\"data row3 col3\" >-0.248752</td>\n",
       "            </tr>\n",
       "            <tr>\n",
       "                        <th id=\"T_40ff7c68_7f82_11eb_9d0b_74e54361a150level0_row4\" class=\"row_heading level0 row4\" >36</th>\n",
       "                        <td id=\"T_40ff7c68_7f82_11eb_9d0b_74e54361a150row4_col0\" class=\"data row4 col0\" >A0A3P3Z1R7.0.apo</td>\n",
       "                        <td id=\"T_40ff7c68_7f82_11eb_9d0b_74e54361a150row4_col1\" class=\"data row4 col1\" >-0.271784</td>\n",
       "                        <td id=\"T_40ff7c68_7f82_11eb_9d0b_74e54361a150row4_col2\" class=\"data row4 col2\" >-0.378095</td>\n",
       "                        <td id=\"T_40ff7c68_7f82_11eb_9d0b_74e54361a150row4_col3\" class=\"data row4 col3\" >-0.235808</td>\n",
       "            </tr>\n",
       "            <tr>\n",
       "                        <th id=\"T_40ff7c68_7f82_11eb_9d0b_74e54361a150level0_row5\" class=\"row_heading level0 row5\" >98</th>\n",
       "                        <td id=\"T_40ff7c68_7f82_11eb_9d0b_74e54361a150row5_col0\" class=\"data row5 col0\" >A0A5K1VH91.0.apo</td>\n",
       "                        <td id=\"T_40ff7c68_7f82_11eb_9d0b_74e54361a150row5_col1\" class=\"data row5 col1\" >-0.270507</td>\n",
       "                        <td id=\"T_40ff7c68_7f82_11eb_9d0b_74e54361a150row5_col2\" class=\"data row5 col2\" >-0.367279</td>\n",
       "                        <td id=\"T_40ff7c68_7f82_11eb_9d0b_74e54361a150row5_col3\" class=\"data row5 col3\" >-0.241054</td>\n",
       "            </tr>\n",
       "            <tr>\n",
       "                        <th id=\"T_40ff7c68_7f82_11eb_9d0b_74e54361a150level0_row6\" class=\"row_heading level0 row6\" >60</th>\n",
       "                        <td id=\"T_40ff7c68_7f82_11eb_9d0b_74e54361a150row6_col0\" class=\"data row6 col0\" >A0A3P3ZDV2.0.apo</td>\n",
       "                        <td id=\"T_40ff7c68_7f82_11eb_9d0b_74e54361a150row6_col1\" class=\"data row6 col1\" >-0.259283</td>\n",
       "                        <td id=\"T_40ff7c68_7f82_11eb_9d0b_74e54361a150row6_col2\" class=\"data row6 col2\" >-0.340000</td>\n",
       "                        <td id=\"T_40ff7c68_7f82_11eb_9d0b_74e54361a150row6_col3\" class=\"data row6 col3\" >-0.232994</td>\n",
       "            </tr>\n",
       "            <tr>\n",
       "                        <th id=\"T_40ff7c68_7f82_11eb_9d0b_74e54361a150level0_row7\" class=\"row_heading level0 row7\" >141</th>\n",
       "                        <td id=\"T_40ff7c68_7f82_11eb_9d0b_74e54361a150row7_col0\" class=\"data row7 col0\" >A0A1E1J2F8.0.apo</td>\n",
       "                        <td id=\"T_40ff7c68_7f82_11eb_9d0b_74e54361a150row7_col1\" class=\"data row7 col1\" >-0.251856</td>\n",
       "                        <td id=\"T_40ff7c68_7f82_11eb_9d0b_74e54361a150row7_col2\" class=\"data row7 col2\" >-0.365823</td>\n",
       "                        <td id=\"T_40ff7c68_7f82_11eb_9d0b_74e54361a150row7_col3\" class=\"data row7 col3\" >-0.259748</td>\n",
       "            </tr>\n",
       "            <tr>\n",
       "                        <th id=\"T_40ff7c68_7f82_11eb_9d0b_74e54361a150level0_row8\" class=\"row_heading level0 row8\" >123</th>\n",
       "                        <td id=\"T_40ff7c68_7f82_11eb_9d0b_74e54361a150row8_col0\" class=\"data row8 col0\" >A0A3G4YQ95.0.apo</td>\n",
       "                        <td id=\"T_40ff7c68_7f82_11eb_9d0b_74e54361a150row8_col1\" class=\"data row8 col1\" >-0.250466</td>\n",
       "                        <td id=\"T_40ff7c68_7f82_11eb_9d0b_74e54361a150row8_col2\" class=\"data row8 col2\" >-0.340141</td>\n",
       "                        <td id=\"T_40ff7c68_7f82_11eb_9d0b_74e54361a150row8_col3\" class=\"data row8 col3\" >-0.220626</td>\n",
       "            </tr>\n",
       "            <tr>\n",
       "                        <th id=\"T_40ff7c68_7f82_11eb_9d0b_74e54361a150level0_row9\" class=\"row_heading level0 row9\" >97</th>\n",
       "                        <td id=\"T_40ff7c68_7f82_11eb_9d0b_74e54361a150row9_col0\" class=\"data row9 col0\" >E9AWJ0.0.apo</td>\n",
       "                        <td id=\"T_40ff7c68_7f82_11eb_9d0b_74e54361a150row9_col1\" class=\"data row9 col1\" >-0.232407</td>\n",
       "                        <td id=\"T_40ff7c68_7f82_11eb_9d0b_74e54361a150row9_col2\" class=\"data row9 col2\" >-0.336111</td>\n",
       "                        <td id=\"T_40ff7c68_7f82_11eb_9d0b_74e54361a150row9_col3\" class=\"data row9 col3\" >-0.133163</td>\n",
       "            </tr>\n",
       "    </tbody></table>"
      ],
      "text/plain": [
       "<pandas.io.formats.style.Styler at 0x7f8459003390>"
      ]
     },
     "execution_count": 119,
     "metadata": {},
     "output_type": "execute_result"
    }
   ],
   "source": [
    "stats_data[:10].style.background_gradient()"
   ]
  },
  {
   "cell_type": "code",
   "execution_count": 120,
   "metadata": {},
   "outputs": [],
   "source": [
    "overlapping = []\n",
    "for filename in os.listdir(args.score_path):\n",
    "    data = pd.read_csv(args.score_path + filename)\n",
    "    data = data.dropna()\n",
    "    if len(data) == 0:\n",
    "        continue\n",
    "    data = data.sort_values(by=['Binding-Score'], ascending=False)\n",
    "    s1 = set(data[:5]['Ligand-Name'].tolist())\n",
    "    s2 = s1 & set(data[['Ligand-Name', 'InterfE']].sort_values(by=['InterfE'])['Ligand-Name'][:5])\n",
    "    target = \".\".join(filename.split('-')[-1].split('.')[:-1])\n",
    "    overlapping.append([target, len(s2) / len(s1)])\n",
    "\n",
    "overlapping = pd.DataFrame(data=overlapping, columns=['Target', '%overlapping'])\n",
    "overlapping.sort_values(by=['%overlapping'], inplace=True, ascending=False)\n",
    "overlapping.to_csv('overlapping.csv', index=False)"
   ]
  },
  {
   "cell_type": "code",
   "execution_count": 121,
   "metadata": {},
   "outputs": [
    {
     "data": {
      "text/plain": [
       "<matplotlib.axes._subplots.AxesSubplot at 0x7f8459127710>"
      ]
     },
     "execution_count": 121,
     "metadata": {},
     "output_type": "execute_result"
    },
    {
     "data": {
      "image/png": "[encoded data removed]",
      "text/plain": [
       "<Figure size 432x288 with 1 Axes>"
      ]
     },
     "metadata": {
      "needs_background": "light"
     },
     "output_type": "display_data"
    }
   ],
   "source": [
    "overlapping['%overlapping'].hist()"
   ]
  },
  {
   "cell_type": "code",
   "execution_count": 122,
   "metadata": {},
   "outputs": [
    {
     "data": {
      "text/html": [
       "<div>\n",
       "<style scoped>\n",
       "    .dataframe tbody tr th:only-of-type {\n",
       "        vertical-align: middle;\n",
       "    }\n",
       "\n",
       "    .dataframe tbody tr th {\n",
       "        vertical-align: top;\n",
       "    }\n",
       "\n",
       "    .dataframe thead th {\n",
       "        text-align: right;\n",
       "    }\n",
       "</style>\n",
       "<table border=\"1\" class=\"dataframe\">\n",
       "  <thead>\n",
       "    <tr style=\"text-align: right;\">\n",
       "      <th></th>\n",
       "      <th>%overlapping</th>\n",
       "    </tr>\n",
       "  </thead>\n",
       "  <tbody>\n",
       "    <tr>\n",
       "      <th>count</th>\n",
       "      <td>168.000000</td>\n",
       "    </tr>\n",
       "    <tr>\n",
       "      <th>mean</th>\n",
       "      <td>0.190476</td>\n",
       "    </tr>\n",
       "    <tr>\n",
       "      <th>std</th>\n",
       "      <td>0.106798</td>\n",
       "    </tr>\n",
       "    <tr>\n",
       "      <th>min</th>\n",
       "      <td>0.000000</td>\n",
       "    </tr>\n",
       "    <tr>\n",
       "      <th>25%</th>\n",
       "      <td>0.200000</td>\n",
       "    </tr>\n",
       "    <tr>\n",
       "      <th>50%</th>\n",
       "      <td>0.200000</td>\n",
       "    </tr>\n",
       "    <tr>\n",
       "      <th>75%</th>\n",
       "      <td>0.200000</td>\n",
       "    </tr>\n",
       "    <tr>\n",
       "      <th>max</th>\n",
       "      <td>0.600000</td>\n",
       "    </tr>\n",
       "  </tbody>\n",
       "</table>\n",
       "</div>"
      ],
      "text/plain": [
       "       %overlapping\n",
       "count    168.000000\n",
       "mean       0.190476\n",
       "std        0.106798\n",
       "min        0.000000\n",
       "25%        0.200000\n",
       "50%        0.200000\n",
       "75%        0.200000\n",
       "max        0.600000"
      ]
     },
     "execution_count": 122,
     "metadata": {},
     "output_type": "execute_result"
    }
   ],
   "source": [
    "overlapping.describe()"
   ]
  },
  {
   "cell_type": "code",
   "execution_count": 123,
   "metadata": {},
   "outputs": [],
   "source": [
    "# overlapping score and correlation score\n",
    "df1 = stats_data[['Target', 'KendalR']]\n",
    "df = pd.merge(df1, overlapping, on=['Target'])"
   ]
  },
  {
   "cell_type": "code",
   "execution_count": 124,
   "metadata": {},
   "outputs": [
    {
     "data": {
      "text/plain": [
       "<matplotlib.axes._subplots.AxesSubplot at 0x7f8458eb03c8>"
      ]
     },
     "execution_count": 124,
     "metadata": {},
     "output_type": "execute_result"
    },
    {
     "data": {
      "image/png": "[encoded data removed]",
      "text/plain": [
       "<Figure size 432x288 with 1 Axes>"
      ]
     },
     "metadata": {
      "needs_background": "light"
     },
     "output_type": "display_data"
    }
   ],
   "source": [
    "df[:10]['%overlapping'].hist()"
   ]
  },
  {
   "cell_type": "code",
   "execution_count": 125,
   "metadata": {},
   "outputs": [
    {
     "data": {
      "text/plain": [
       "0.09888090656471296"
      ]
     },
     "execution_count": 125,
     "metadata": {},
     "output_type": "execute_result"
    }
   ],
   "source": [
    "df['KendalR'].corr(df['%overlapping'], method='kendall')"
   ]
  },
  {
   "cell_type": "code",
   "execution_count": 126,
   "metadata": {},
   "outputs": [],
   "source": [
    "# how frequently drugs appear in the top 10 drugs for each target"
   ]
  },
  {
   "cell_type": "code",
   "execution_count": 139,
   "metadata": {},
   "outputs": [],
   "source": [
    "aggregation = {}\n",
    "for filename in os.listdir(args.score_path):\n",
    "    data = pd.read_csv(args.score_path + filename)\n",
    "    data = data.sort_values(by=['InterfE'])[:5]\n",
    "    for row in data.iterrows():\n",
    "        drug = row[1]['Ligand-Name']\n",
    "        drug = drug.split('_')\n",
    "        drug = drug[-1]\n",
    "        if drug not in aggregation:\n",
    "            aggregation[drug] = 1\n",
    "        else :\n",
    "            aggregation[drug] += 1"
   ]
  },
  {
   "cell_type": "code",
   "execution_count": 141,
   "metadata": {},
   "outputs": [],
   "source": [
    "aggregation = pd.DataFrame.from_dict(data=aggregation, orient='index', columns=['frequency'])\n",
    "aggregation = aggregation.sort_values(by=['frequency'], ascending=False)"
   ]
  },
  {
   "cell_type": "code",
   "execution_count": 142,
   "metadata": {},
   "outputs": [
    {
     "data": {
      "text/plain": [
       "<matplotlib.axes._subplots.AxesSubplot at 0x7f8458c96dd8>"
      ]
     },
     "execution_count": 142,
     "metadata": {},
     "output_type": "execute_result"
    },
    {
     "data": {
      "image/png": "[encoded data removed]",
      "text/plain": [
       "<Figure size 432x288 with 1 Axes>"
      ]
     },
     "metadata": {
      "needs_background": "light"
     },
     "output_type": "display_data"
    }
   ],
   "source": [
    "aggregation[:26].plot(kind='bar')"
   ]
  },
  {
   "cell_type": "code",
   "execution_count": 56,
   "metadata": {},
   "outputs": [],
   "source": [
    "open('sorted_drugs_t1.txt', 'w').writelines(list_drugs)"
   ]
  },
  {
   "cell_type": "code",
   "execution_count": 22,
   "metadata": {},
   "outputs": [],
   "source": [
    "# ligand LGAJOMLFGCSBFF-OLXDQKQCSA-N\n",
    "data = []\n",
    "for filename in os.listdir(args.score_path):\n",
    "    df = pd.read_csv(args.score_path + filename)\n",
    "    df = df[df['Ligand-Name'].str.contains('LGAJOMLFGCSBFF-OLXDQKQCSA-N')]\n",
    "    df = df.dropna()\n",
    "    if len(df) == 0:\n",
    "        continue\n",
    "    df = df.iloc[0]\n",
    "    data.append([df['Target-Name'], df['InterfE']])"
   ]
  },
  {
   "cell_type": "code",
   "execution_count": 24,
   "metadata": {},
   "outputs": [],
   "source": [
    "data = pd.DataFrame(data=data, columns=['Target-Name', 'InterfE'])"
   ]
  },
  {
   "cell_type": "code",
   "execution_count": 35,
   "metadata": {},
   "outputs": [],
   "source": [
    "data = data.sort_values(by=['InterfE'])"
   ]
  },
  {
   "cell_type": "code",
   "execution_count": 38,
   "metadata": {},
   "outputs": [],
   "source": [
    "data.to_csv('LGAJOMLFGCSBFF-OLXDQKQCSA-N.csv', index=False)"
   ]
  },
  {
   "cell_type": "code",
   "execution_count": 39,
   "metadata": {},
   "outputs": [],
   "source": [
    "data = pd.read_csv('LGAJOMLFGCSBFF-OLXDQKQCSA-N.csv')"
   ]
  },
  {
   "cell_type": "code",
   "execution_count": 47,
   "metadata": {},
   "outputs": [],
   "source": [
    "y = data['InterfE']\n",
    "x = list(range(len(y)))"
   ]
  },
  {
   "cell_type": "code",
   "execution_count": 48,
   "metadata": {},
   "outputs": [],
   "source": [
    "import matplotlib.pyplot as plt"
   ]
  },
  {
   "cell_type": "code",
   "execution_count": 52,
   "metadata": {},
   "outputs": [
    {
     "data": {
      "text/plain": [
       "[<matplotlib.lines.Line2D at 0x7f996133cc18>]"
      ]
     },
     "execution_count": 52,
     "metadata": {},
     "output_type": "execute_result"
    },
    {
     "data": {
      "image/png": "[encoded data removed]",
      "text/plain": [
       "<Figure size 432x288 with 1 Axes>"
      ]
     },
     "metadata": {
      "needs_background": "light"
     },
     "output_type": "display_data"
    }
   ],
   "source": [
    "plt.xlabel('Target')\n",
    "plt.ylabel('Energy Kcal/mol')\n",
    "plt.plot(x, y)"
   ]
  },
  {
   "cell_type": "markdown",
   "metadata": {},
   "source": [
    "## Miscellaneous"
   ]
  },
  {
   "cell_type": "code",
   "execution_count": 1,
   "metadata": {},
   "outputs": [],
   "source": [
    "import os\n",
    "import pandas as pd"
   ]
  },
  {
   "cell_type": "code",
   "execution_count": 2,
   "metadata": {},
   "outputs": [],
   "source": [
    "data = []\n",
    "for filename in os.listdir('./protein-pdb/'):\n",
    "    data.append(filename.split('.')[0])"
   ]
  },
  {
   "cell_type": "code",
   "execution_count": 4,
   "metadata": {},
   "outputs": [],
   "source": [
    "data = pd.DataFrame(data=data, columns=['receptor-name'])"
   ]
  },
  {
   "cell_type": "code",
   "execution_count": 5,
   "metadata": {},
   "outputs": [],
   "source": [
    "data.to_csv('./target.csv')"
   ]
  },
  {
   "cell_type": "code",
   "execution_count": null,
   "metadata": {},
   "outputs": [],
   "source": []
  }
 ],
 "metadata": {
  "kernelspec": {
   "display_name": "Python 3",
   "language": "python",
   "name": "python3"
  },
  "language_info": {
   "codemirror_mode": {
    "name": "ipython",
    "version": 3
   },
   "file_extension": ".py",
   "mimetype": "text/x-python",
   "name": "python",
   "nbconvert_exporter": "python",
   "pygments_lexer": "ipython3",
   "version": "3.6.9"
  }
 },
 "nbformat": 4,
 "nbformat_minor": 4
}
