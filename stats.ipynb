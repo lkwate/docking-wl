{
 "cells": [
  {
   "cell_type": "code",
   "execution_count": 1,
   "metadata": {},
   "outputs": [],
   "source": [
    "import os \n",
    "import pandas as pd\n",
    "import matplotlib.pyplot as plt"
   ]
  },
  {
   "cell_type": "code",
   "execution_count": 8,
   "metadata": {},
   "outputs": [],
   "source": [
    "def drug_freq(top=1):\n",
    "    drugs_freq = {}\n",
    "    for file in os.listdir('results-top-100/'):\n",
    "        data = pd.read_csv('results-top-100/' + file)\n",
    "        data = data.sort_values(by=['energy'])\n",
    "        top_data = data[:top]\n",
    "        for row in top_data.iterrows():\n",
    "            drug = row[1]['ligand']\n",
    "            if drug in drugs_freq:\n",
    "                drugs_freq[drug] += 1\n",
    "            else :\n",
    "                drugs_freq[drug] = 1\n",
    "    return drugs_freq"
   ]
  },
  {
   "cell_type": "code",
   "execution_count": 9,
   "metadata": {},
   "outputs": [],
   "source": [
    "drugs_freq_1 = drug_freq()"
   ]
  },
  {
   "cell_type": "code",
   "execution_count": 11,
   "metadata": {},
   "outputs": [
    {
     "data": {
      "image/png": "[encoded data removed]",
      "text/plain": [
       "<Figure size 432x288 with 1 Axes>"
      ]
     },
     "metadata": {
      "needs_background": "light"
     },
     "output_type": "display_data"
    }
   ],
   "source": [
    "plt.bar(range(len(drugs_freq_1)), list(drugs_freq_1.values()), align='center')\n",
    "plt.xticks(range(len(drugs_freq_1)), list(drugs_freq_1.keys()))\n",
    "\n",
    "plt.show()"
   ]
  },
  {
   "cell_type": "code",
   "execution_count": 12,
   "metadata": {},
   "outputs": [
    {
     "data": {
      "text/plain": [
       "{'RZVPBGBYGMDSBG-GGAORHGYSA-N': 17,\n",
       " 'GZUITABIAKMVPG-UHFFFAOYSA-N': 38,\n",
       " 'QOYHHIBFXOOADH-UHFFFAOYSA-N': 54,\n",
       " 'LGAJOMLFGCSBFF-OLXDQKQCSA-N': 4,\n",
       " 'NETZHAKZCGBWSS-CEDHKZHLSA-N': 2,\n",
       " 'PWNMXPDKBYZCOO-NSHDSACASA-N': 10,\n",
       " 'FHXBMXJMKMWVRG-SLHNCBLASA-N': 7,\n",
       " 'OUDSBRTVNLOZBN-UHFFFAOYSA-N': 1,\n",
       " 'XDVCLKFLRAWGIT-ADOAZJKMSA-N': 5,\n",
       " 'UDMBCSSLTHHNCD-KQYNXXCUSA-N': 2,\n",
       " 'WOFMFGQZHJDGCX-ZULDAHANSA-N': 1,\n",
       " 'DKGZKTPJOSAWFA-UHFFFAOYSA-N': 3,\n",
       " 'JXZZEXZZKAWDSP-UHFFFAOYSA-N': 1,\n",
       " 'DYAIAHUQIPBDIP-AXAPSJFSSA-N': 1,\n",
       " 'HJBWBFZLDZWPHF-UHFFFAOYSA-N': 1,\n",
       " 'AIZFEOPQVZBNGH-UHFFFAOYSA-N': 1}"
      ]
     },
     "execution_count": 12,
     "metadata": {},
     "output_type": "execute_result"
    }
   ],
   "source": [
    "drugs_freq_1"
   ]
  },
  {
   "cell_type": "code",
   "execution_count": null,
   "metadata": {},
   "outputs": [],
   "source": []
  },
  {
   "cell_type": "code",
   "execution_count": null,
   "metadata": {},
   "outputs": [],
   "source": []
  },
  {
   "cell_type": "code",
   "execution_count": 53,
   "metadata": {},
   "outputs": [],
   "source": [
    "def indicators(data):\n",
    "    corr = data['best Energy'].corr(data['binding score'])\n",
    "    temp = data.sort_values(by=['binding score'], ascending=False)\n",
    "    set_1 = list(temp['ligand'][:10])\n",
    "    temp = data.sort_values(by=['best Energy'])\n",
    "    set_2 = list(temp['ligand'][:10])\n",
    "    \n",
    "    result = {'overlap_' + str(i) : len(set(set_1[:i]) & set(set_2[:i])) / len(set(set_1[:i]) | set(set_2[:i])) for i in [1, 5, 10]}\n",
    "    result['corr'] = corr\n",
    "    \n",
    "    return result"
   ]
  },
  {
   "cell_type": "code",
   "execution_count": 63,
   "metadata": {},
   "outputs": [],
   "source": [
    "values = []\n",
    "ranks = []\n",
    "root = './Bs-Ie/'\n",
    "for file in os.listdir(root):\n",
    "    data = pd.read_csv(root + file)\n",
    "    data_sorted = data.sort_values(by=['binding score'], ascending=False)\n",
    "    min_energy = data['best Energy'].min()\n",
    "    for i, value in enumerate(data_sorted.iterrows()):\n",
    "        if value[1]['best Energy'] == min_energy:\n",
    "            r = i + 1\n",
    "            break\n",
    "    ranks.append(r)\n",
    "    results = indicators(data)\n",
    "    values.append((results['corr'], results['overlap_1'], results['overlap_5'], results['overlap_10']))\n",
    "indicator_val = pd.DataFrame(data=values, columns=['corr', 'overlap_1', 'overlap_5', 'overlap_10'])"
   ]
  },
  {
   "cell_type": "code",
   "execution_count": 59,
   "metadata": {},
   "outputs": [
    {
     "data": {
      "text/html": [
       "<div>\n",
       "<style scoped>\n",
       "    .dataframe tbody tr th:only-of-type {\n",
       "        vertical-align: middle;\n",
       "    }\n",
       "\n",
       "    .dataframe tbody tr th {\n",
       "        vertical-align: top;\n",
       "    }\n",
       "\n",
       "    .dataframe thead th {\n",
       "        text-align: right;\n",
       "    }\n",
       "</style>\n",
       "<table border=\"1\" class=\"dataframe\">\n",
       "  <thead>\n",
       "    <tr style=\"text-align: right;\">\n",
       "      <th></th>\n",
       "      <th>corr</th>\n",
       "      <th>overlap_1</th>\n",
       "      <th>overlap_5</th>\n",
       "      <th>overlap_10</th>\n",
       "    </tr>\n",
       "  </thead>\n",
       "  <tbody>\n",
       "    <tr>\n",
       "      <th>0</th>\n",
       "      <td>0.028920</td>\n",
       "      <td>0.0</td>\n",
       "      <td>0.250000</td>\n",
       "      <td>0.250000</td>\n",
       "    </tr>\n",
       "    <tr>\n",
       "      <th>1</th>\n",
       "      <td>-0.145818</td>\n",
       "      <td>0.0</td>\n",
       "      <td>0.111111</td>\n",
       "      <td>0.333333</td>\n",
       "    </tr>\n",
       "    <tr>\n",
       "      <th>2</th>\n",
       "      <td>0.286521</td>\n",
       "      <td>0.0</td>\n",
       "      <td>0.000000</td>\n",
       "      <td>0.250000</td>\n",
       "    </tr>\n",
       "    <tr>\n",
       "      <th>3</th>\n",
       "      <td>-0.039539</td>\n",
       "      <td>1.0</td>\n",
       "      <td>0.111111</td>\n",
       "      <td>0.250000</td>\n",
       "    </tr>\n",
       "    <tr>\n",
       "      <th>4</th>\n",
       "      <td>-0.126329</td>\n",
       "      <td>0.0</td>\n",
       "      <td>0.250000</td>\n",
       "      <td>0.250000</td>\n",
       "    </tr>\n",
       "    <tr>\n",
       "      <th>...</th>\n",
       "      <td>...</td>\n",
       "      <td>...</td>\n",
       "      <td>...</td>\n",
       "      <td>...</td>\n",
       "    </tr>\n",
       "    <tr>\n",
       "      <th>142</th>\n",
       "      <td>-0.065126</td>\n",
       "      <td>0.0</td>\n",
       "      <td>0.111111</td>\n",
       "      <td>0.250000</td>\n",
       "    </tr>\n",
       "    <tr>\n",
       "      <th>143</th>\n",
       "      <td>-0.063819</td>\n",
       "      <td>0.0</td>\n",
       "      <td>0.111111</td>\n",
       "      <td>0.333333</td>\n",
       "    </tr>\n",
       "    <tr>\n",
       "      <th>144</th>\n",
       "      <td>0.216136</td>\n",
       "      <td>0.0</td>\n",
       "      <td>0.111111</td>\n",
       "      <td>0.250000</td>\n",
       "    </tr>\n",
       "    <tr>\n",
       "      <th>145</th>\n",
       "      <td>-0.086804</td>\n",
       "      <td>0.0</td>\n",
       "      <td>0.111111</td>\n",
       "      <td>0.250000</td>\n",
       "    </tr>\n",
       "    <tr>\n",
       "      <th>146</th>\n",
       "      <td>-0.034335</td>\n",
       "      <td>0.0</td>\n",
       "      <td>0.111111</td>\n",
       "      <td>0.250000</td>\n",
       "    </tr>\n",
       "  </tbody>\n",
       "</table>\n",
       "<p>147 rows × 4 columns</p>\n",
       "</div>"
      ],
      "text/plain": [
       "         corr  overlap_1  overlap_5  overlap_10\n",
       "0    0.028920        0.0   0.250000    0.250000\n",
       "1   -0.145818        0.0   0.111111    0.333333\n",
       "2    0.286521        0.0   0.000000    0.250000\n",
       "3   -0.039539        1.0   0.111111    0.250000\n",
       "4   -0.126329        0.0   0.250000    0.250000\n",
       "..        ...        ...        ...         ...\n",
       "142 -0.065126        0.0   0.111111    0.250000\n",
       "143 -0.063819        0.0   0.111111    0.333333\n",
       "144  0.216136        0.0   0.111111    0.250000\n",
       "145 -0.086804        0.0   0.111111    0.250000\n",
       "146 -0.034335        0.0   0.111111    0.250000\n",
       "\n",
       "[147 rows x 4 columns]"
      ]
     },
     "execution_count": 59,
     "metadata": {},
     "output_type": "execute_result"
    }
   ],
   "source": [
    "indicator_val"
   ]
  },
  {
   "cell_type": "code",
   "execution_count": 31,
   "metadata": {},
   "outputs": [],
   "source": [
    "cor_serie = pd.Series(corrs)"
   ]
  },
  {
   "cell_type": "code",
   "execution_count": 32,
   "metadata": {},
   "outputs": [
    {
     "data": {
      "text/plain": [
       "count    147.000000\n",
       "mean      -0.067254\n",
       "std        0.135064\n",
       "min       -0.350689\n",
       "25%       -0.160484\n",
       "50%       -0.073704\n",
       "75%        0.027408\n",
       "max        0.286521\n",
       "dtype: float64"
      ]
     },
     "execution_count": 32,
     "metadata": {},
     "output_type": "execute_result"
    }
   ],
   "source": [
    "cor_serie.describe()"
   ]
  },
  {
   "cell_type": "code",
   "execution_count": null,
   "metadata": {},
   "outputs": [],
   "source": [
    "# overlapping score\n",
    "overlap_score = []\n"
   ]
  },
  {
   "cell_type": "code",
   "execution_count": 45,
   "metadata": {},
   "outputs": [
    {
     "data": {
      "text/plain": [
       "{'overlap_1': 0.0, 'overlap_5': 0.1111111111111111, 'overlap_10': 0.25}"
      ]
     },
     "execution_count": 45,
     "metadata": {},
     "output_type": "execute_result"
    }
   ],
   "source": [
    "indicators(data)"
   ]
  },
  {
   "cell_type": "code",
   "execution_count": 62,
   "metadata": {},
   "outputs": [
    {
     "data": {
      "text/html": [
       "<div>\n",
       "<style scoped>\n",
       "    .dataframe tbody tr th:only-of-type {\n",
       "        vertical-align: middle;\n",
       "    }\n",
       "\n",
       "    .dataframe tbody tr th {\n",
       "        vertical-align: top;\n",
       "    }\n",
       "\n",
       "    .dataframe thead th {\n",
       "        text-align: right;\n",
       "    }\n",
       "</style>\n",
       "<table border=\"1\" class=\"dataframe\">\n",
       "  <thead>\n",
       "    <tr style=\"text-align: right;\">\n",
       "      <th></th>\n",
       "      <th>ligand</th>\n",
       "      <th>E1</th>\n",
       "      <th>E2</th>\n",
       "      <th>E3</th>\n",
       "      <th>binding score</th>\n",
       "      <th>best Energy</th>\n",
       "    </tr>\n",
       "  </thead>\n",
       "  <tbody>\n",
       "    <tr>\n",
       "      <th>0</th>\n",
       "      <td>COLNVLDHVKWLRT-QMMMGPOBSA-N</td>\n",
       "      <td>-6.2</td>\n",
       "      <td>-6.1</td>\n",
       "      <td>-5.7</td>\n",
       "      <td>70105.41</td>\n",
       "      <td>-6.2</td>\n",
       "    </tr>\n",
       "    <tr>\n",
       "      <th>1</th>\n",
       "      <td>MFBCDACCJCDGBA-UHFFFAOYSA-N</td>\n",
       "      <td>-10.0</td>\n",
       "      <td>-9.2</td>\n",
       "      <td>-9.3</td>\n",
       "      <td>126306.37</td>\n",
       "      <td>-10.0</td>\n",
       "    </tr>\n",
       "    <tr>\n",
       "      <th>2</th>\n",
       "      <td>AYFVYJQAPQTCCC-GBXIJSLDSA-N</td>\n",
       "      <td>-5.7</td>\n",
       "      <td>-5.7</td>\n",
       "      <td>-4.4</td>\n",
       "      <td>74156.13</td>\n",
       "      <td>-5.7</td>\n",
       "    </tr>\n",
       "    <tr>\n",
       "      <th>3</th>\n",
       "      <td>KZTZJUQNSSLNAG-UHFFFAOYSA-N</td>\n",
       "      <td>-4.6</td>\n",
       "      <td>-4.4</td>\n",
       "      <td>-4.2</td>\n",
       "      <td>117532.82</td>\n",
       "      <td>-4.6</td>\n",
       "    </tr>\n",
       "    <tr>\n",
       "      <th>4</th>\n",
       "      <td>UDMBCSSLTHHNCD-KQYNXXCUSA-N</td>\n",
       "      <td>-8.2</td>\n",
       "      <td>-8.8</td>\n",
       "      <td>-7.8</td>\n",
       "      <td>289460.05</td>\n",
       "      <td>-8.8</td>\n",
       "    </tr>\n",
       "    <tr>\n",
       "      <th>5</th>\n",
       "      <td>JEIPFZHSYJVQDO-UHFFFAOYSA-N</td>\n",
       "      <td>-4.3</td>\n",
       "      <td>-4.0</td>\n",
       "      <td>-3.9</td>\n",
       "      <td>141180.54</td>\n",
       "      <td>-4.3</td>\n",
       "    </tr>\n",
       "    <tr>\n",
       "      <th>6</th>\n",
       "      <td>KRMDCWKBEZIMAB-UHFFFAOYSA-N</td>\n",
       "      <td>-8.1</td>\n",
       "      <td>-8.0</td>\n",
       "      <td>-7.8</td>\n",
       "      <td>188626.39</td>\n",
       "      <td>-8.1</td>\n",
       "    </tr>\n",
       "    <tr>\n",
       "      <th>7</th>\n",
       "      <td>WDSCBUNMANHPFH-UHFFFAOYSA-N</td>\n",
       "      <td>-6.0</td>\n",
       "      <td>-5.6</td>\n",
       "      <td>-4.7</td>\n",
       "      <td>155050.15</td>\n",
       "      <td>-6.0</td>\n",
       "    </tr>\n",
       "    <tr>\n",
       "      <th>8</th>\n",
       "      <td>IKWTVSLWAPBBKU-UHFFFAOYSA-N</td>\n",
       "      <td>-1.5</td>\n",
       "      <td>-1.3</td>\n",
       "      <td>-1.0</td>\n",
       "      <td>171412.94</td>\n",
       "      <td>-1.5</td>\n",
       "    </tr>\n",
       "    <tr>\n",
       "      <th>9</th>\n",
       "      <td>DHMQDGOQFOQNFH-UHFFFAOYSA-N</td>\n",
       "      <td>-4.1</td>\n",
       "      <td>-4.1</td>\n",
       "      <td>-3.3</td>\n",
       "      <td>79567.34</td>\n",
       "      <td>-4.1</td>\n",
       "    </tr>\n",
       "    <tr>\n",
       "      <th>10</th>\n",
       "      <td>JURKNVYFZMSNLP-UHFFFAOYSA-N</td>\n",
       "      <td>-8.2</td>\n",
       "      <td>-7.8</td>\n",
       "      <td>-7.7</td>\n",
       "      <td>23456.49</td>\n",
       "      <td>-8.2</td>\n",
       "    </tr>\n",
       "    <tr>\n",
       "      <th>11</th>\n",
       "      <td>JMOVFFLYGIQXMM-UHFFFAOYSA-N</td>\n",
       "      <td>-6.6</td>\n",
       "      <td>-6.6</td>\n",
       "      <td>-6.1</td>\n",
       "      <td>8557.49</td>\n",
       "      <td>-6.6</td>\n",
       "    </tr>\n",
       "    <tr>\n",
       "      <th>12</th>\n",
       "      <td>ZCXUVYAZINUVJD-AHXZWLDOSA-N</td>\n",
       "      <td>-6.7</td>\n",
       "      <td>-6.7</td>\n",
       "      <td>-6.0</td>\n",
       "      <td>124239.53</td>\n",
       "      <td>-6.7</td>\n",
       "    </tr>\n",
       "    <tr>\n",
       "      <th>13</th>\n",
       "      <td>UVKZSORBKUEBAZ-UHFFFAOYSA-N</td>\n",
       "      <td>-7.4</td>\n",
       "      <td>-7.7</td>\n",
       "      <td>-7.4</td>\n",
       "      <td>115786.29</td>\n",
       "      <td>-7.7</td>\n",
       "    </tr>\n",
       "    <tr>\n",
       "      <th>14</th>\n",
       "      <td>FDMBBCOBEAVDAO-AWEZNQCLSA-N</td>\n",
       "      <td>-6.1</td>\n",
       "      <td>-6.2</td>\n",
       "      <td>-5.7</td>\n",
       "      <td>46842.54</td>\n",
       "      <td>-6.2</td>\n",
       "    </tr>\n",
       "    <tr>\n",
       "      <th>15</th>\n",
       "      <td>ZQPPMHVWECSIRJ-KTKRTIGZSA-N</td>\n",
       "      <td>-5.4</td>\n",
       "      <td>-5.0</td>\n",
       "      <td>-5.5</td>\n",
       "      <td>108643.47</td>\n",
       "      <td>-5.5</td>\n",
       "    </tr>\n",
       "    <tr>\n",
       "      <th>16</th>\n",
       "      <td>OCAXFDULERPAJM-BQJUDKOJSA-N</td>\n",
       "      <td>-8.7</td>\n",
       "      <td>-8.7</td>\n",
       "      <td>-8.7</td>\n",
       "      <td>110709.72</td>\n",
       "      <td>-8.7</td>\n",
       "    </tr>\n",
       "    <tr>\n",
       "      <th>17</th>\n",
       "      <td>LGAJOMLFGCSBFF-OLXDQKQCSA-N</td>\n",
       "      <td>-10.7</td>\n",
       "      <td>-9.8</td>\n",
       "      <td>-9.9</td>\n",
       "      <td>330142.22</td>\n",
       "      <td>-10.7</td>\n",
       "    </tr>\n",
       "    <tr>\n",
       "      <th>18</th>\n",
       "      <td>YFDSDPIBEUFTMI-UHFFFAOYSA-N</td>\n",
       "      <td>-3.7</td>\n",
       "      <td>-4.0</td>\n",
       "      <td>-3.2</td>\n",
       "      <td>246260.20</td>\n",
       "      <td>-4.0</td>\n",
       "    </tr>\n",
       "    <tr>\n",
       "      <th>19</th>\n",
       "      <td>XRVCFZPJAHWYTB-UHFFFAOYSA-N</td>\n",
       "      <td>-4.7</td>\n",
       "      <td>-5.1</td>\n",
       "      <td>-4.0</td>\n",
       "      <td>228158.84</td>\n",
       "      <td>-5.1</td>\n",
       "    </tr>\n",
       "    <tr>\n",
       "      <th>20</th>\n",
       "      <td>RVMGXWBCQGAWBR-UHFFFAOYSA-N</td>\n",
       "      <td>-7.8</td>\n",
       "      <td>-7.5</td>\n",
       "      <td>-6.9</td>\n",
       "      <td>153557.34</td>\n",
       "      <td>-7.8</td>\n",
       "    </tr>\n",
       "    <tr>\n",
       "      <th>21</th>\n",
       "      <td>PMTSPAGBAFCORP-HBUONDEYSA-N</td>\n",
       "      <td>-10.6</td>\n",
       "      <td>-9.4</td>\n",
       "      <td>-11.1</td>\n",
       "      <td>5382.79</td>\n",
       "      <td>-11.1</td>\n",
       "    </tr>\n",
       "    <tr>\n",
       "      <th>22</th>\n",
       "      <td>PHOQVHQSTUBQQK-SQOUGZDYSA-N</td>\n",
       "      <td>-6.7</td>\n",
       "      <td>-6.8</td>\n",
       "      <td>-6.0</td>\n",
       "      <td>352574.43</td>\n",
       "      <td>-6.8</td>\n",
       "    </tr>\n",
       "    <tr>\n",
       "      <th>23</th>\n",
       "      <td>ZPMKQFOGINQDAM-UHFFFAOYSA-N</td>\n",
       "      <td>-8.1</td>\n",
       "      <td>-8.3</td>\n",
       "      <td>-8.2</td>\n",
       "      <td>94084.78</td>\n",
       "      <td>-8.3</td>\n",
       "    </tr>\n",
       "    <tr>\n",
       "      <th>24</th>\n",
       "      <td>RQNADZJRELIICT-UHFFFAOYSA-N</td>\n",
       "      <td>-7.4</td>\n",
       "      <td>-7.7</td>\n",
       "      <td>-7.2</td>\n",
       "      <td>100256.38</td>\n",
       "      <td>-7.7</td>\n",
       "    </tr>\n",
       "    <tr>\n",
       "      <th>25</th>\n",
       "      <td>RTRQQBHATOEIAF-UUOKFMHZSA-N</td>\n",
       "      <td>-7.4</td>\n",
       "      <td>-8.0</td>\n",
       "      <td>-7.6</td>\n",
       "      <td>32032.03</td>\n",
       "      <td>-8.0</td>\n",
       "    </tr>\n",
       "  </tbody>\n",
       "</table>\n",
       "</div>"
      ],
      "text/plain": [
       "                         ligand    E1   E2    E3  binding score  best Energy\n",
       "0   COLNVLDHVKWLRT-QMMMGPOBSA-N  -6.2 -6.1  -5.7       70105.41         -6.2\n",
       "1   MFBCDACCJCDGBA-UHFFFAOYSA-N -10.0 -9.2  -9.3      126306.37        -10.0\n",
       "2   AYFVYJQAPQTCCC-GBXIJSLDSA-N  -5.7 -5.7  -4.4       74156.13         -5.7\n",
       "3   KZTZJUQNSSLNAG-UHFFFAOYSA-N  -4.6 -4.4  -4.2      117532.82         -4.6\n",
       "4   UDMBCSSLTHHNCD-KQYNXXCUSA-N  -8.2 -8.8  -7.8      289460.05         -8.8\n",
       "5   JEIPFZHSYJVQDO-UHFFFAOYSA-N  -4.3 -4.0  -3.9      141180.54         -4.3\n",
       "6   KRMDCWKBEZIMAB-UHFFFAOYSA-N  -8.1 -8.0  -7.8      188626.39         -8.1\n",
       "7   WDSCBUNMANHPFH-UHFFFAOYSA-N  -6.0 -5.6  -4.7      155050.15         -6.0\n",
       "8   IKWTVSLWAPBBKU-UHFFFAOYSA-N  -1.5 -1.3  -1.0      171412.94         -1.5\n",
       "9   DHMQDGOQFOQNFH-UHFFFAOYSA-N  -4.1 -4.1  -3.3       79567.34         -4.1\n",
       "10  JURKNVYFZMSNLP-UHFFFAOYSA-N  -8.2 -7.8  -7.7       23456.49         -8.2\n",
       "11  JMOVFFLYGIQXMM-UHFFFAOYSA-N  -6.6 -6.6  -6.1        8557.49         -6.6\n",
       "12  ZCXUVYAZINUVJD-AHXZWLDOSA-N  -6.7 -6.7  -6.0      124239.53         -6.7\n",
       "13  UVKZSORBKUEBAZ-UHFFFAOYSA-N  -7.4 -7.7  -7.4      115786.29         -7.7\n",
       "14  FDMBBCOBEAVDAO-AWEZNQCLSA-N  -6.1 -6.2  -5.7       46842.54         -6.2\n",
       "15  ZQPPMHVWECSIRJ-KTKRTIGZSA-N  -5.4 -5.0  -5.5      108643.47         -5.5\n",
       "16  OCAXFDULERPAJM-BQJUDKOJSA-N  -8.7 -8.7  -8.7      110709.72         -8.7\n",
       "17  LGAJOMLFGCSBFF-OLXDQKQCSA-N -10.7 -9.8  -9.9      330142.22        -10.7\n",
       "18  YFDSDPIBEUFTMI-UHFFFAOYSA-N  -3.7 -4.0  -3.2      246260.20         -4.0\n",
       "19  XRVCFZPJAHWYTB-UHFFFAOYSA-N  -4.7 -5.1  -4.0      228158.84         -5.1\n",
       "20  RVMGXWBCQGAWBR-UHFFFAOYSA-N  -7.8 -7.5  -6.9      153557.34         -7.8\n",
       "21  PMTSPAGBAFCORP-HBUONDEYSA-N -10.6 -9.4 -11.1        5382.79        -11.1\n",
       "22  PHOQVHQSTUBQQK-SQOUGZDYSA-N  -6.7 -6.8  -6.0      352574.43         -6.8\n",
       "23  ZPMKQFOGINQDAM-UHFFFAOYSA-N  -8.1 -8.3  -8.2       94084.78         -8.3\n",
       "24  RQNADZJRELIICT-UHFFFAOYSA-N  -7.4 -7.7  -7.2      100256.38         -7.7\n",
       "25  RTRQQBHATOEIAF-UUOKFMHZSA-N  -7.4 -8.0  -7.6       32032.03         -8.0"
      ]
     },
     "execution_count": 62,
     "metadata": {},
     "output_type": "execute_result"
    }
   ],
   "source": [
    "data"
   ]
  },
  {
   "cell_type": "code",
   "execution_count": 68,
   "metadata": {},
   "outputs": [
    {
     "data": {
      "text/plain": [
       "(array([19.,  6.,  5.,  5., 11.,  6.,  3.,  3.,  0., 89.]),\n",
       " array([ 1. ,  3.5,  6. ,  8.5, 11. , 13.5, 16. , 18.5, 21. , 23.5, 26. ]),\n",
       " <a list of 10 Patch objects>)"
      ]
     },
     "execution_count": 68,
     "metadata": {},
     "output_type": "execute_result"
    },
    {
     "data": {
      "image/png": "[encoded data removed]",
      "text/plain": [
       "<Figure size 432x288 with 1 Axes>"
      ]
     },
     "metadata": {
      "needs_background": "light"
     },
     "output_type": "display_data"
    }
   ],
   "source": [
    "plt.title(\"rank distribution\")\n",
    "plt.xlabel(\"rank\")\n",
    "plt.ylabel(\"frequency\")\n",
    "plt.hist(ranks)"
   ]
  },
  {
   "cell_type": "code",
   "execution_count": 69,
   "metadata": {},
   "outputs": [],
   "source": [
    "import statistics"
   ]
  },
  {
   "cell_type": "code",
   "execution_count": 70,
   "metadata": {},
   "outputs": [
    {
     "data": {
      "text/plain": [
       "26"
      ]
     },
     "execution_count": 70,
     "metadata": {},
     "output_type": "execute_result"
    }
   ],
   "source": [
    "statistics.median(ranks)"
   ]
  },
  {
   "cell_type": "code",
   "execution_count": null,
   "metadata": {},
   "outputs": [],
   "source": []
  }
 ],
 "metadata": {
  "kernelspec": {
   "display_name": "Python 3",
   "language": "python",
   "name": "python3"
  },
  "language_info": {
   "codemirror_mode": {
    "name": "ipython",
    "version": 3
   },
   "file_extension": ".py",
   "mimetype": "text/x-python",
   "name": "python",
   "nbconvert_exporter": "python",
   "pygments_lexer": "ipython3",
   "version": "3.6.9"
  }
 },
 "nbformat": 4,
 "nbformat_minor": 4
}
