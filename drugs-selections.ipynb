{
 "cells": [
  {
   "cell_type": "code",
   "execution_count": 1,
   "metadata": {},
   "outputs": [],
   "source": [
    "import os\n",
    "import pandas as pd"
   ]
  },
  {
   "cell_type": "code",
   "execution_count": 2,
   "metadata": {},
   "outputs": [],
   "source": [
    "def get_top_drugs(n=None):\n",
    "    if not n:\n",
    "        raise Exception('n is not defined')\n",
    "    drugs = set()\n",
    "    for file_name in os.listdir('binding-score/'):\n",
    "        data = pd.read_csv('binding-score/{}'.format(file_name))\n",
    "        data = data.sort_values(by=['BindingScore'], ascending=False)\n",
    "        top_drugs = data[:n]['LigandName']\n",
    "        drugs |= set(top_drugs)\n",
    "    \n",
    "    return drugs"
   ]
  },
  {
   "cell_type": "code",
   "execution_count": 30,
   "metadata": {},
   "outputs": [],
   "source": [
    "top_1000_drugs = get_top_drugs(1000)\n",
    "top_900_drugs = get_top_drugs(900)"
   ]
  },
  {
   "cell_type": "code",
   "execution_count": 31,
   "metadata": {},
   "outputs": [
    {
     "data": {
      "text/plain": [
       "(1439, 1308)"
      ]
     },
     "execution_count": 31,
     "metadata": {},
     "output_type": "execute_result"
    }
   ],
   "source": [
    "len(top_1000_drugs), len(top_900_drugs)"
   ]
  },
  {
   "cell_type": "code",
   "execution_count": 32,
   "metadata": {},
   "outputs": [],
   "source": [
    "top_1000_900_drugs = top_1000_drugs - top_900_drugs"
   ]
  },
  {
   "cell_type": "code",
   "execution_count": 33,
   "metadata": {},
   "outputs": [],
   "source": [
    "drugs = [s.split('_')[-1] for s in top_1000_900_drugs]"
   ]
  },
  {
   "cell_type": "code",
   "execution_count": 35,
   "metadata": {},
   "outputs": [],
   "source": [
    "for i in range(0, 5):\n",
    "    with open('ligands(1000-900)-{}.txt'.format(i + 1), 'w') as file:\n",
    "        for drug in drugs[i * 25 : (i + 1) * 25]:\n",
    "            file.write('%s\\n' % drug)"
   ]
  },
  {
   "cell_type": "code",
   "execution_count": 36,
   "metadata": {},
   "outputs": [
    {
     "data": {
      "text/plain": [
       "['YVPYQUNUQOZFHG-UHFFFAOYSA-N',\n",
       " 'VXMOONUMYLCFJD-DHLKQENFSA-N',\n",
       " 'QIFJTEYRIMDFPK-UHFFFAOYSA-N',\n",
       " 'JUUFBMODXQKSTD-UHFFFAOYSA-N',\n",
       " 'DGMJZELBSFOPHH-KVTDHHQDSA-N',\n",
       " 'UPOYFZYFGWBUKL-UHFFFAOYSA-N',\n",
       " 'IDWVKNARDDZONS-UHFFFAOYSA-N',\n",
       " 'OVGORFFCBUIFIA-NSHDSACASA-N',\n",
       " 'ORRZGUBHBVWWOP-UHFFFAOYSA-N',\n",
       " 'NKJQZSDCCLDOQH-MRXNPFEDSA-N',\n",
       " 'PJVWKTKQMONHTI-OAHLLOKOSA-N',\n",
       " 'GUHPRPJDBZHYCJ-VIFPVBQESA-N',\n",
       " 'QOBAOSCOLAGPKI-UHFFFAOYSA-N',\n",
       " 'WOVKYSAHUYNSMH-RRKCRQDMSA-N',\n",
       " 'DHSUYTOATWAVLW-WFVMDLQDSA-N',\n",
       " 'SMOBCLHAZXOKDQ-ZJUUUORDSA-N',\n",
       " 'SKPLBLUECSEIFO-QMMMGPOBSA-N',\n",
       " 'LFQDNHWZDQTITF-UHFFFAOYSA-N',\n",
       " 'VZVGEDRCVUKSEL-UHFFFAOYSA-N',\n",
       " 'OXDOWGVJMITMJL-OAQYLSRUSA-N',\n",
       " 'KJONHKAYOJNZEC-UHFFFAOYSA-N',\n",
       " 'NULMGOSOSZBEQL-QMMMGPOBSA-N',\n",
       " 'MPTXLVRHYGBOQY-UHFFFAOYSA-N',\n",
       " 'BAQCROVBDNBEEB-KSDLJXBFSA-N',\n",
       " 'NEUSVAOJNUQRTM-UHFFFAOYSA-N',\n",
       " 'CXOXHMZGEKVPMT-UHFFFAOYSA-N',\n",
       " 'XNMYNYSCEJBRPZ-UHFFFAOYSA-N',\n",
       " 'RZWPJFMNFATBEG-UHFFFAOYSA-N',\n",
       " 'ACGDKVXYNVEAGU-UHFFFAOYSA-N',\n",
       " 'PTGXAUBQBSGPKF-ZRGWGRIASA-N',\n",
       " 'IZYQCDNLUPLXOO-UHFFFAOYSA-N',\n",
       " 'IDPUKCWIGUEADI-UHFFFAOYSA-N',\n",
       " 'JRWZLRBJNMZMFE-CYBMUJFWSA-N',\n",
       " 'MMNICIJVQJJHHF-LJQANCHMSA-N',\n",
       " 'ZFMITUMMTDLWHR-UHFFFAOYSA-N',\n",
       " 'JXUMCVDPMJWGSI-UHFFFAOYSA-N',\n",
       " 'MVFGUOIZUNYYSO-LLVKDONJSA-N',\n",
       " 'KYCBWEZLKCTALM-UHFFFAOYSA-N',\n",
       " 'LRXXRIXDSAEIOR-ZDUSSCGKSA-N',\n",
       " 'XSCGXQMFQXDFCW-UHFFFAOYSA-N',\n",
       " 'JRWZLRBJNMZMFE-ZDUSSCGKSA-N',\n",
       " 'FUBVWMNBEHXPSU-UHFFFAOYSA-N',\n",
       " 'YSXKPIUOCJLQIE-ZFMNYDKASA-N',\n",
       " 'JZUFKLXOESDKRF-UHFFFAOYSA-N',\n",
       " 'FRIZVHMAECRUBR-KIWWSDKQSA-N',\n",
       " 'MEZLKOACVSPNER-GFCCVEGCSA-N',\n",
       " 'ZDXPYRJPNDTMRX-VKHMYHEASA-N',\n",
       " 'VSQQQLOSPVPRAZ-RRKCRQDMSA-N',\n",
       " 'PGAVKCOVUIYSFO-XVFCMESISA-N',\n",
       " 'ZULJGOSFKWFVRX-UHFFFAOYSA-N',\n",
       " 'JYPVVOOBQVVUQV-CGHBYZBKSA-N',\n",
       " 'ZPLQIPFOCGIIHV-UHFFFAOYSA-N',\n",
       " 'BNQDCRGUHNALGH-LURJTMIESA-N',\n",
       " 'NOOLISFMXDJSKH-KXUCPTDWSA-N',\n",
       " 'DKRSEIPLAZTSFD-LSDHHAIUSA-N',\n",
       " 'FOHHNHSLJDZUGQ-RUZDIDTESA-N',\n",
       " 'JFJZZMVDLULRGK-URLMMPGGSA-O',\n",
       " 'FKHUGQZRBPETJR-FZKCHLSLSA-N',\n",
       " 'YUUAYBAIHCDHHD-UHFFFAOYSA-N',\n",
       " 'AXJXURWWUFZZKN-NSHDSACASA-N',\n",
       " 'ZIAOVIPSKUPPQW-UHFFFAOYSA-N',\n",
       " 'DJQJFMSHHYAZJD-UHFFFAOYSA-N',\n",
       " 'YZQNFFLGIYEXMM-OAHLLOKOSA-N',\n",
       " 'VJYSBPDEJWLKKJ-NLIMODCCSA-N',\n",
       " 'PLHJDBGFXBMTGZ-UHFFFAOYSA-N',\n",
       " 'HLSLSXBFTXUKCY-RQJHMYQMSA-N',\n",
       " 'WDYYVNNRTDZKAZ-UHFFFAOYSA-N',\n",
       " 'UCEWGESNIULAGX-UHFFFAOYSA-N',\n",
       " 'PDWUPXJEEYOOTR-JRGAVVOBSA-N',\n",
       " 'JUKPWJGBANNWMW-VWBFHTRKSA-N',\n",
       " 'GHXZTYHSJHQHIJ-UHFFFAOYSA-N',\n",
       " 'JGOAIQNSOGZNBX-UHFFFAOYSA-N',\n",
       " 'RHUWRJWFHUKVED-UHFFFAOYSA-N',\n",
       " 'KFZMXOLSYABOSE-UHFFFAOYSA-O',\n",
       " 'VBSPHZOBAOWFCL-QFIPXVFZSA-N',\n",
       " 'WSSJONWNBBTCMG-NWDGAFQWSA-N',\n",
       " 'GOZBHBFUQHMKQB-UHFFFAOYSA-N',\n",
       " 'FLGCRGJDQJIJAW-INIZCTEOSA-N',\n",
       " 'VQASKUSHBVDKGU-ZETCQYMHSA-N',\n",
       " 'NMTBSNPBIGRZBL-UHFFFAOYSA-N',\n",
       " 'ZGSDGGRVFIYKKE-OXQOHEQNSA-N',\n",
       " 'JTUQXGZRVLWBCR-GOSISDBHSA-N',\n",
       " 'SKZKKFZAGNVIMN-UHFFFAOYSA-N',\n",
       " 'JMUHBNWAORSSBD-WKYWBUFDSA-N',\n",
       " 'BPEGJWRSRHCHSN-UHFFFAOYSA-N',\n",
       " 'LJQWYEFHNLTPBZ-UHFFFAOYSA-N',\n",
       " 'BQJODPIMMWWMFC-UHFFFAOYSA-N',\n",
       " 'MVMXJBMAGBRAHD-UHFFFAOYSA-N',\n",
       " 'JEJBJBKVPOWOQK-QGZVFWFLSA-N',\n",
       " 'OFVFGKQCUDMLLP-UHFFFAOYSA-N',\n",
       " 'SNWQKAWITMVCQW-UHFFFAOYSA-N',\n",
       " 'DUGOZIWVEXMGBE-CHWSQXEVSA-N',\n",
       " 'KLDXJTOLSGUMSJ-JGWLITMVSA-N',\n",
       " 'CKWHSYRZDLWQFV-HNNXBMFYSA-N',\n",
       " 'XSVMFMHYUFZWBK-NSHDSACASA-N',\n",
       " 'ZKGDBJAHIIXDDW-MRVPVSSYSA-N',\n",
       " 'QADHLRWLCPCEKT-LOVVWNRFSA-N',\n",
       " 'UISARWKNNNHPGI-INIZCTEOSA-N',\n",
       " 'CVXBEEMKQHEXEN-UHFFFAOYSA-N',\n",
       " 'VWYQKFLLGRBICZ-UHFFFAOYSA-N',\n",
       " 'TZGBBMBARSFJBG-UKTHLTGXSA-N',\n",
       " 'CFOYWRHIYXMDOT-UHFFFAOYSA-N',\n",
       " 'JVLBPIPGETUEET-WIXLDOGYSA-O',\n",
       " 'QQBDLJCYGRGAKP-UHFFFAOYSA-N',\n",
       " 'XQFRJNBWHJMXHO-RRKCRQDMSA-N',\n",
       " 'AMGKHLVPQHMHGQ-ZYHUDNBSSA-N',\n",
       " 'FFGPTBGBLSHEPO-UHFFFAOYSA-N',\n",
       " 'IRVLBORJKFZWMI-PWSUYJOCSA-N',\n",
       " 'SZQIFWWUIBRPBZ-SECBINFHSA-N',\n",
       " 'ZCGNOVWYSGBHAU-UHFFFAOYSA-N',\n",
       " 'PIJVFDBKTWXHHD-HIFRSBDPSA-N',\n",
       " 'RXTHKWVSXOIHJS-GOSISDBHSA-N',\n",
       " 'JWBOIMRXGHLCPP-CYBMUJFWSA-N',\n",
       " 'JMFOSJNGKJCTMJ-ZHZULCJRSA-N',\n",
       " 'NRFJZTXWLKPZAV-RXMQYKEDSA-N',\n",
       " 'IJZUQDQOAFUFJY-UHFFFAOYSA-N',\n",
       " 'GSVQIUGOUKJHRC-RXMQYKEDSA-N',\n",
       " 'POZJNEBUHLZROM-GFCCVEGCSA-N',\n",
       " 'PPVFOZYARYOARE-UHFFFAOYSA-N',\n",
       " 'QRJJEGAJXVEBNE-HKOYGPOVSA-N',\n",
       " 'OMDMTHRBGUBUCO-IUCAKERBSA-N',\n",
       " 'SNHRLVCMMWUAJD-OMPPIWKSSA-N',\n",
       " 'WNKCJOWTKXGERE-UHFFFAOYSA-N',\n",
       " 'HHHKFGXWKKUNCY-FHWLQOOXSA-N',\n",
       " 'GQYIWUVLTXOXAJ-UHFFFAOYSA-N',\n",
       " 'ASFKKFRSMGBFRO-INIZCTEOSA-N',\n",
       " 'GUCKKCMJTSNWCU-BQBZGAKWSA-N',\n",
       " 'QFVAWNPSRQWSDU-UHFFFAOYSA-N',\n",
       " 'ZBRCAASZBMWIDA-QFPUCQTMSA-N',\n",
       " 'XKLMZUWKNUAPSZ-FQEVSTJZSA-N',\n",
       " 'DUGOZIWVEXMGBE-OLZOCXBDSA-N']"
      ]
     },
     "execution_count": 36,
     "metadata": {},
     "output_type": "execute_result"
    }
   ],
   "source": [
    "drugs"
   ]
  },
  {
   "cell_type": "code",
   "execution_count": null,
   "metadata": {},
   "outputs": [],
   "source": []
  }
 ],
 "metadata": {
  "kernelspec": {
   "display_name": "Python 3",
   "language": "python",
   "name": "python3"
  },
  "language_info": {
   "codemirror_mode": {
    "name": "ipython",
    "version": 3
   },
   "file_extension": ".py",
   "mimetype": "text/x-python",
   "name": "python",
   "nbconvert_exporter": "python",
   "pygments_lexer": "ipython3",
   "version": "3.6.9"
  }
 },
 "nbformat": 4,
 "nbformat_minor": 4
}
