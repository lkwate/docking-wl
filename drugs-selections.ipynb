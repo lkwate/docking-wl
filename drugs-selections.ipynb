{
 "cells": [
  {
   "cell_type": "code",
   "execution_count": 1,
   "metadata": {},
   "outputs": [],
   "source": [
    "import os\n",
    "import pandas as pd"
   ]
  },
  {
   "cell_type": "code",
   "execution_count": 2,
   "metadata": {},
   "outputs": [],
   "source": [
    "def get_top_drugs(n=None):\n",
    "    if not n:\n",
    "        raise Exception('n is not defined')\n",
    "    drugs = set()\n",
    "    for file_name in os.listdir('binding-score/'):\n",
    "        data = pd.read_csv('binding-score/{}'.format(file_name))\n",
    "        data = data.sort_values(by=['BindingScore'], ascending=False)\n",
    "        top_drugs = data[:n]['LigandName']\n",
    "        drugs |= set(top_drugs)\n",
    "    \n",
    "    return drugs"
   ]
  },
  {
   "cell_type": "code",
   "execution_count": 32,
   "metadata": {},
   "outputs": [],
   "source": [
    "top_1400_drugs = get_top_drugs(1400)\n",
    "top_1500_drugs = get_top_drugs(1500)"
   ]
  },
  {
   "cell_type": "code",
   "execution_count": 33,
   "metadata": {},
   "outputs": [
    {
     "data": {
      "text/plain": [
       "(2031, 1914)"
      ]
     },
     "execution_count": 33,
     "metadata": {},
     "output_type": "execute_result"
    }
   ],
   "source": [
    "len(top_1500_drugs), len(top_1400_drugs)"
   ]
  },
  {
   "cell_type": "code",
   "execution_count": 27,
   "metadata": {},
   "outputs": [],
   "source": [
    "top_1500_1400_drugs = top_1500_drugs - top_1300_drugs"
   ]
  },
  {
   "cell_type": "code",
   "execution_count": 28,
   "metadata": {},
   "outputs": [],
   "source": [
    "drugs = [s.split('_')[-1] for s in top_1400_1300_drugs]"
   ]
  },
  {
   "cell_type": "code",
   "execution_count": 30,
   "metadata": {},
   "outputs": [],
   "source": [
    "for i in range(0, 5):\n",
    "    with open('ligands(1400-1300)-{}.txt'.format(i + 1), 'w') as file:\n",
    "        for drug in drugs[i * 25 : (i + 1) * 25]:\n",
    "            file.write('%s\\n' % drug)"
   ]
  },
  {
   "cell_type": "code",
   "execution_count": 31,
   "metadata": {},
   "outputs": [
    {
     "data": {
      "text/plain": [
       "['XOZLRRYPUKAKMU-UHFFFAOYSA-N',\n",
       " 'BBBFJLBPOGFECG-VJVYQDLKSA-N',\n",
       " 'VUSKMERTTCJJPM-KPKJPENVSA-N',\n",
       " 'PQSUYGKTWSAVDQ-ZVIOFETBSA-N',\n",
       " 'NNACHAUCXXVJSP-UHFFFAOYSA-N',\n",
       " 'LZPZPHGJDAGEJZ-AKAIJSEGSA-N',\n",
       " 'YHXISWVBGDMDLQ-UHFFFAOYSA-N',\n",
       " 'YNCLPFSAZFGQCD-UHFFFAOYSA-N',\n",
       " 'PTHLEKANMPKYDB-UHFFFAOYSA-N',\n",
       " 'WFLSCFISQHLEED-GDBMZVCRSA-N',\n",
       " 'UPZFHUODAYGHDZ-RMKNXTFCSA-N',\n",
       " 'SNFOERUNNSHUGP-ZXZARUISSA-N',\n",
       " 'UJVLDDZCTMKXJK-WNHSNXHDSA-N',\n",
       " 'RSWOJTICKMKTER-KBEDJVHFSA-N',\n",
       " 'JNDJPKHYZWRRIS-INIZCTEOSA-N',\n",
       " 'REQCZEXYDRLIBE-UHFFFAOYSA-N',\n",
       " 'MWQCHHACWWAQLJ-UHFFFAOYSA-N',\n",
       " 'RYBJORHCUPVNMB-UHFFFAOYSA-N',\n",
       " 'HLNLBEFKHHCAMV-UHFFFAOYSA-N',\n",
       " 'WDFKMLRRRCGAKS-UHFFFAOYSA-N',\n",
       " 'ANUCDXCTICZJRH-ADLMAVQZSA-N',\n",
       " 'NMCHYWGKBADVMK-ZDUSSCGKSA-N',\n",
       " 'QMNFFXRFOJIOKZ-UHFFFAOYSA-N',\n",
       " 'QVVOZYKELHAIPX-FRNBUXIHSA-N',\n",
       " 'QVFWZNCVPCJQOP-NTSWFWBYSA-N',\n",
       " 'OFSAUHSCHWRZKM-UHFFFAOYSA-N',\n",
       " 'HPITVGRITATAFY-FQEVSTJZSA-N',\n",
       " 'JNYSEDHQJCOWQU-LURJTMIESA-N',\n",
       " 'LPMXVESGRSUGHW-HBYQJFLCSA-N',\n",
       " 'DEGAKNSWVGKMLS-UHFFFAOYSA-N',\n",
       " 'GHJWNRRCRIGGIO-UHFFFAOYSA-N',\n",
       " 'YIEAVVIJPFEHCX-RPWUZVMVSA-N',\n",
       " 'FVLVBPDQNARYJU-KYZUINATSA-N',\n",
       " 'OCAPBUJLXMYKEJ-QFIPXVFZSA-N',\n",
       " 'CDHVRXOLGDSJGX-UHFFFAOYSA-N',\n",
       " 'DQTRREPKGJIABH-UHFFFAOYSA-N',\n",
       " 'UPSPUYADGBWSHF-UHFFFAOYSA-N',\n",
       " 'VVDGWALACJEJKG-UHFFFAOYSA-N',\n",
       " 'VDTNNGKXZGSZIP-UHFFFAOYSA-N',\n",
       " 'JLGKQTAYUIMGRK-IBGZPJMESA-N',\n",
       " 'WHGYBXFWUBPSRW-FOUAGVGXSA-N',\n",
       " 'VVOIQBFMTVCINR-WWMZEODYSA-N',\n",
       " 'CJAVTWRYCDNHSM-CQSZACIVSA-N',\n",
       " 'KYYIDSXMWOZKMP-OAHLLOKOSA-N',\n",
       " 'NSVFSAJIGAJDMR-HKBQPEDESA-N',\n",
       " 'WWNUCVSRRUDYPP-UHFFFAOYSA-N',\n",
       " 'ACEWLPOYLGNNHV-HNNXBMFYSA-N',\n",
       " 'BBIMHFSPNXQFAH-UHFFFAOYSA-N',\n",
       " 'KANJSNBRCNMZMV-ABRZTLGGSA-N',\n",
       " 'QSAVEGSLJISCDF-NWANDNLSSA-N',\n",
       " 'WDEFBBTXULIOBB-NVXWUHKLSA-N',\n",
       " 'WTYGAUXICFETTC-UHFFFAOYSA-N',\n",
       " 'YLCXGBZIZBEVPZ-UHFFFAOYSA-N',\n",
       " 'ARFHIAQFJWUCFH-JMUHATKESA-N',\n",
       " 'FHFYDNQZQSQIAI-UHFFFAOYSA-N',\n",
       " 'LVXJQMNHJWSHET-AATRIKPKSA-N',\n",
       " 'PHWXUGHIIBDVKD-UHFFFAOYSA-N',\n",
       " 'DBVJJBKOTRCVKF-UHFFFAOYSA-N',\n",
       " 'SUJUHGSWHZTSEU-FYBSXPHGSA-N',\n",
       " 'VABCILAOYCMVPS-OAHLLOKOSA-N',\n",
       " 'DB11820',\n",
       " 'TZFUBYYADABEAV-UHFFFAOYSA-N',\n",
       " 'IYDYFVUFSPQPPV-PEXOCOHZSA-N',\n",
       " 'QNIUOGIMJWORNZ-UHFFFAOYSA-N',\n",
       " 'YFTWHEBLORWGNI-UHFFFAOYSA-N',\n",
       " 'LIAWQASKBFCRNR-SECBINFHSA-N',\n",
       " 'JTWOMNBEOCYFNV-NFFDBFGFSA-N',\n",
       " 'ALOBUEHUHMBRLE-FQEVSTJZSA-N',\n",
       " 'KWTWDQCKEHXFFR-SMDDNHRTSA-N',\n",
       " 'FLGJKPPXEKYCBY-AKCFYGDASA-N',\n",
       " 'BQDBKDMTIJBJLA-UHFFFAOYSA-N',\n",
       " 'JSDXOWVAHXDYCU-VXSYNFHWSA-N',\n",
       " 'BHQCQFFYRZLCQQ-OELDTZBJSA-N',\n",
       " 'YBJHBAHKTGYVGT-ZKWXMUAHSA-N',\n",
       " 'QDGZDCVAUDNJFG-FXQIFTODSA-N',\n",
       " 'IJWPAFMIFNSIGD-UHFFFAOYSA-N',\n",
       " 'XQSLKIBWQSTAGK-UHFFFAOYSA-N',\n",
       " 'UTVSLCROIUPVOX-YUVXSKOASA-N',\n",
       " 'NSHMKXVHJBBKTN-OAHLLOKOSA-N',\n",
       " 'PYGWGZALEOIKDF-UHFFFAOYSA-N',\n",
       " 'ONNOFKFOZAJDHT-UHFFFAOYSA-N',\n",
       " 'VCZPUGSOJXZKIP-WCQYABFASA-N',\n",
       " 'ZLOXYEZYWCTXHU-UHFFFAOYSA-N',\n",
       " 'FHHHOYXPRDYHEZ-COXVUDFISA-N',\n",
       " 'FAIIFDPAEUKBEP-INIZCTEOSA-N',\n",
       " 'MCIACXAZCBVDEE-CUUWFGFTSA-N',\n",
       " 'QWGDMFLQWFTERH-UHFFFAOYSA-N',\n",
       " 'HDDSHPAODJUKPD-UHFFFAOYSA-N',\n",
       " 'BCGWQEUPMDMJNV-UHFFFAOYSA-N',\n",
       " 'ZFIOCUITTUUVPV-MEDUHNTESA-N',\n",
       " 'RMHMFHUVIITRHF-UHFFFAOYSA-N',\n",
       " 'CURUTKGFNZGFSE-UHFFFAOYSA-N',\n",
       " 'ODKNJVUHOIMIIZ-RRKCRQDMSA-N',\n",
       " 'DLGSOJOOYHWROO-UHFFFAOYSA-N',\n",
       " 'IVQOFBKHQCTVQV-UHFFFAOYSA-N',\n",
       " 'NEMGRZFTLSKBAP-LBPRGKRZSA-N',\n",
       " 'GXPHKUHSUJUWKP-YADARESESA-N',\n",
       " 'IYJMSDVSVHDVGT-PEQKVOOWSA-N',\n",
       " 'TYNLGDBUJLVSMA-UHFFFAOYSA-N',\n",
       " 'XBEDAMVJWVPVDS-UHFFFAOYSA-N',\n",
       " 'VLSMHEGGTFMBBZ-OOZYFLPDSA-N',\n",
       " 'XSEUMFJMFFMCIU-UHFFFAOYSA-N',\n",
       " 'WMFSSTNVXWNLKI-LJQANCHMSA-N',\n",
       " 'XLMPPFTZALNBFS-INIZCTEOSA-N',\n",
       " 'GWUSZQUVEVMBPI-UHFFFAOYSA-N',\n",
       " 'KNAHARQHSZJURB-UHFFFAOYSA-N',\n",
       " 'KGFYHTZWPPHNLQ-AWEZNQCLSA-N',\n",
       " 'QJJXOEFWXSQISU-SFHVURJKSA-N',\n",
       " 'SADQVAVFGNTEOD-UHFFFAOYSA-N',\n",
       " 'DLDKCSIJFIPYRK-UHFFFAOYSA-N',\n",
       " 'OJLOPKGSLYJEMD-YCVNZHGXSA-N',\n",
       " 'AGJBLWCLQCKRJP-IBGZPJMESA-N',\n",
       " 'SLFGIOIONGJGRT-AWEZNQCLSA-N',\n",
       " 'WOUUWUGULFOVHG-UHFFFAOYSA-N',\n",
       " 'FJLGEFLZQAZZCD-JUFISIKESA-N',\n",
       " 'YFGHCGITMMYXAQ-LJQANCHMSA-N',\n",
       " 'INDBQLZJXZLFIT-NSHDSACASA-N',\n",
       " 'XULIXFLCVXWHRF-UHFFFAOYSA-N',\n",
       " 'IOVGROKTTNBUGK-SJKOYZFVSA-N',\n",
       " 'GAGWJHPBXLXJQN-UORFTKCHSA-N',\n",
       " 'GUIBJJJLGSYNKE-UHFFFAOYSA-N',\n",
       " 'ALBRKUHVWDVWRO-SFHVURJKSA-N',\n",
       " 'JYJTVFIEFKZWCJ-JTQLQIEISA-N',\n",
       " 'SOROUYSPFADXSN-UENFOFCHSA-N',\n",
       " 'OEBPANQZQGQPHF-UHFFFAOYSA-N',\n",
       " 'HEDXEAAVEOJUCR-UHFFFAOYSA-N',\n",
       " 'XXPANQJNYNUNES-CQSZACIVSA-N',\n",
       " 'PVOOBRUZWPQOER-NSHDSACASA-N',\n",
       " 'CXYOBRKOFHQONJ-UHFFFAOYSA-N',\n",
       " 'NZGMVSJQULXLHF-QOGHJSHSSA-N']"
      ]
     },
     "execution_count": 31,
     "metadata": {},
     "output_type": "execute_result"
    }
   ],
   "source": [
    "drugs"
   ]
  },
  {
   "cell_type": "code",
   "execution_count": null,
   "metadata": {},
   "outputs": [],
   "source": []
  }
 ],
 "metadata": {
  "kernelspec": {
   "display_name": "Python 3",
   "language": "python",
   "name": "python3"
  },
  "language_info": {
   "codemirror_mode": {
    "name": "ipython",
    "version": 3
   },
   "file_extension": ".py",
   "mimetype": "text/x-python",
   "name": "python",
   "nbconvert_exporter": "python",
   "pygments_lexer": "ipython3",
   "version": "3.6.9"
  }
 },
 "nbformat": 4,
 "nbformat_minor": 4
}
